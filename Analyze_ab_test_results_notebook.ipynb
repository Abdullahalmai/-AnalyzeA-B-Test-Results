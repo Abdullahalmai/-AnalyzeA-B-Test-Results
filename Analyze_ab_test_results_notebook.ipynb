{
 "cells": [
  {
   "cell_type": "markdown",
   "metadata": {},
   "source": [
    "## Analyze A/B Test Results\n",
    "\n",
    "This project will assure you have mastered the subjects covered in the statistics lessons.  The hope is to have this project be as comprehensive of these topics as possible.  Good luck!\n",
    "\n",
    "## Table of Contents\n",
    "- [Introduction](#intro)\n",
    "- [Part I - Probability](#probability)\n",
    "- [Part II - A/B Test](#ab_test)\n",
    "- [Part III - Regression](#regression)\n",
    "\n",
    "\n",
    "<a id='intro'></a>\n",
    "### Introduction\n",
    "\n",
    "A/B tests are very commonly performed by data analysts and data scientists.  It is important that you get some practice working with the difficulties of these \n",
    "\n",
    "For this project, you will be working to understand the results of an A/B test run by an e-commerce website.  Your goal is to work through this notebook to help the company understand if they should implement the new page, keep the old page, or perhaps run the experiment longer to make their decision.\n",
    "\n",
    "**As you work through this notebook, follow along in the classroom and answer the corresponding quiz questions associated with each question.** The labels for each classroom concept are provided for each question.  This will assure you are on the right track as you work through the project, and you can feel more confident in your final submission meeting the criteria.  As a final check, assure you meet all the criteria on the [RUBRIC](https://review.udacity.com/#!/projects/37e27304-ad47-4eb0-a1ab-8c12f60e43d0/rubric).\n",
    "\n",
    "<a id='probability'></a>\n",
    "#### Part I - Probability\n",
    "\n",
    "To get started, let's import our libraries."
   ]
  },
  {
   "cell_type": "code",
   "execution_count": 58,
   "metadata": {},
   "outputs": [],
   "source": [
    "import pandas as pd\n",
    "import numpy as np\n",
    "import random\n",
    "import matplotlib.pyplot as plt\n",
    "%matplotlib inline\n",
    "#We are setting the seed to assure you get the same answers on quizzes as we set up\n",
    "random.seed(42)"
   ]
  },
  {
   "cell_type": "markdown",
   "metadata": {},
   "source": [
    "`1.` Now, read in the `ab_data.csv` data. Store it in `df`.  **Use your dataframe to answer the questions in Quiz 1 of the classroom.**\n",
    "\n",
    "a. Read in the dataset and take a look at the top few rows here:"
   ]
  },
  {
   "cell_type": "code",
   "execution_count": 59,
   "metadata": {},
   "outputs": [],
   "source": [
    "DF = pd.read_csv('ab_data.csv')\n"
   ]
  },
  {
   "cell_type": "code",
   "execution_count": 60,
   "metadata": {},
   "outputs": [
    {
     "data": {
      "text/html": [
       "<div>\n",
       "<style scoped>\n",
       "    .dataframe tbody tr th:only-of-type {\n",
       "        vertical-align: middle;\n",
       "    }\n",
       "\n",
       "    .dataframe tbody tr th {\n",
       "        vertical-align: top;\n",
       "    }\n",
       "\n",
       "    .dataframe thead th {\n",
       "        text-align: right;\n",
       "    }\n",
       "</style>\n",
       "<table border=\"1\" class=\"dataframe\">\n",
       "  <thead>\n",
       "    <tr style=\"text-align: right;\">\n",
       "      <th></th>\n",
       "      <th>user_id</th>\n",
       "      <th>timestamp</th>\n",
       "      <th>group</th>\n",
       "      <th>landing_page</th>\n",
       "      <th>converted</th>\n",
       "    </tr>\n",
       "  </thead>\n",
       "  <tbody>\n",
       "    <tr>\n",
       "      <th>0</th>\n",
       "      <td>851104</td>\n",
       "      <td>2017-01-21 22:11:48.556739</td>\n",
       "      <td>control</td>\n",
       "      <td>old_page</td>\n",
       "      <td>0</td>\n",
       "    </tr>\n",
       "    <tr>\n",
       "      <th>1</th>\n",
       "      <td>804228</td>\n",
       "      <td>2017-01-12 08:01:45.159739</td>\n",
       "      <td>control</td>\n",
       "      <td>old_page</td>\n",
       "      <td>0</td>\n",
       "    </tr>\n",
       "    <tr>\n",
       "      <th>2</th>\n",
       "      <td>661590</td>\n",
       "      <td>2017-01-11 16:55:06.154213</td>\n",
       "      <td>treatment</td>\n",
       "      <td>new_page</td>\n",
       "      <td>0</td>\n",
       "    </tr>\n",
       "    <tr>\n",
       "      <th>3</th>\n",
       "      <td>853541</td>\n",
       "      <td>2017-01-08 18:28:03.143765</td>\n",
       "      <td>treatment</td>\n",
       "      <td>new_page</td>\n",
       "      <td>0</td>\n",
       "    </tr>\n",
       "    <tr>\n",
       "      <th>4</th>\n",
       "      <td>864975</td>\n",
       "      <td>2017-01-21 01:52:26.210827</td>\n",
       "      <td>control</td>\n",
       "      <td>old_page</td>\n",
       "      <td>1</td>\n",
       "    </tr>\n",
       "  </tbody>\n",
       "</table>\n",
       "</div>"
      ],
      "text/plain": [
       "   user_id                   timestamp      group landing_page  converted\n",
       "0   851104  2017-01-21 22:11:48.556739    control     old_page          0\n",
       "1   804228  2017-01-12 08:01:45.159739    control     old_page          0\n",
       "2   661590  2017-01-11 16:55:06.154213  treatment     new_page          0\n",
       "3   853541  2017-01-08 18:28:03.143765  treatment     new_page          0\n",
       "4   864975  2017-01-21 01:52:26.210827    control     old_page          1"
      ]
     },
     "execution_count": 60,
     "metadata": {},
     "output_type": "execute_result"
    }
   ],
   "source": [
    "DF.head()"
   ]
  },
  {
   "cell_type": "markdown",
   "metadata": {},
   "source": [
    "b. Use the below cell to find the number of rows in the dataset."
   ]
  },
  {
   "cell_type": "code",
   "execution_count": 61,
   "metadata": {},
   "outputs": [
    {
     "data": {
      "text/plain": [
       "(294478, 5)"
      ]
     },
     "execution_count": 61,
     "metadata": {},
     "output_type": "execute_result"
    }
   ],
   "source": [
    "DF.shape"
   ]
  },
  {
   "cell_type": "markdown",
   "metadata": {},
   "source": [
    "c. The number of unique users in the dataset."
   ]
  },
  {
   "cell_type": "code",
   "execution_count": 62,
   "metadata": {},
   "outputs": [
    {
     "data": {
      "text/plain": [
       "user_id         290584\n",
       "timestamp       294478\n",
       "group                2\n",
       "landing_page         2\n",
       "converted            2\n",
       "dtype: int64"
      ]
     },
     "execution_count": 62,
     "metadata": {},
     "output_type": "execute_result"
    }
   ],
   "source": [
    "DF.nunique()"
   ]
  },
  {
   "cell_type": "markdown",
   "metadata": {
    "collapsed": true
   },
   "source": [
    "d. The proportion of users converted."
   ]
  },
  {
   "cell_type": "code",
   "execution_count": 63,
   "metadata": {},
   "outputs": [
    {
     "data": {
      "text/plain": [
       "0.11965919355605512"
      ]
     },
     "execution_count": 63,
     "metadata": {},
     "output_type": "execute_result"
    }
   ],
   "source": [
    "np.mean(DF['converted'])"
   ]
  },
  {
   "cell_type": "markdown",
   "metadata": {
    "collapsed": true
   },
   "source": [
    "e. The number of times the `new_page` and `treatment` don't line up."
   ]
  },
  {
   "cell_type": "code",
   "execution_count": 64,
   "metadata": {},
   "outputs": [
    {
     "data": {
      "text/plain": [
       "3893"
      ]
     },
     "execution_count": 64,
     "metadata": {},
     "output_type": "execute_result"
    }
   ],
   "source": [
    "dont1 = DF.query('landing_page != \"new_page\" and group == \"treatment\" ')\n",
    "dont2 = DF.query('landing_page != \"old_page\" and group == \"control\" ')\n",
    "mis = len(dont1) + len(dont2)\n",
    "mis1 = pd.concat([dont1,dont2])\n",
    "mis"
   ]
  },
  {
   "cell_type": "markdown",
   "metadata": {},
   "source": [
    "f. Do any of the rows have missing values?"
   ]
  },
  {
   "cell_type": "code",
   "execution_count": 65,
   "metadata": {},
   "outputs": [
    {
     "data": {
      "text/html": [
       "<div>\n",
       "<style scoped>\n",
       "    .dataframe tbody tr th:only-of-type {\n",
       "        vertical-align: middle;\n",
       "    }\n",
       "\n",
       "    .dataframe tbody tr th {\n",
       "        vertical-align: top;\n",
       "    }\n",
       "\n",
       "    .dataframe thead th {\n",
       "        text-align: right;\n",
       "    }\n",
       "</style>\n",
       "<table border=\"1\" class=\"dataframe\">\n",
       "  <thead>\n",
       "    <tr style=\"text-align: right;\">\n",
       "      <th></th>\n",
       "      <th>user_id</th>\n",
       "      <th>timestamp</th>\n",
       "      <th>group</th>\n",
       "      <th>landing_page</th>\n",
       "      <th>converted</th>\n",
       "    </tr>\n",
       "  </thead>\n",
       "  <tbody>\n",
       "    <tr>\n",
       "      <th>0</th>\n",
       "      <td>False</td>\n",
       "      <td>False</td>\n",
       "      <td>False</td>\n",
       "      <td>False</td>\n",
       "      <td>False</td>\n",
       "    </tr>\n",
       "    <tr>\n",
       "      <th>1</th>\n",
       "      <td>False</td>\n",
       "      <td>False</td>\n",
       "      <td>False</td>\n",
       "      <td>False</td>\n",
       "      <td>False</td>\n",
       "    </tr>\n",
       "    <tr>\n",
       "      <th>2</th>\n",
       "      <td>False</td>\n",
       "      <td>False</td>\n",
       "      <td>False</td>\n",
       "      <td>False</td>\n",
       "      <td>False</td>\n",
       "    </tr>\n",
       "    <tr>\n",
       "      <th>3</th>\n",
       "      <td>False</td>\n",
       "      <td>False</td>\n",
       "      <td>False</td>\n",
       "      <td>False</td>\n",
       "      <td>False</td>\n",
       "    </tr>\n",
       "    <tr>\n",
       "      <th>4</th>\n",
       "      <td>False</td>\n",
       "      <td>False</td>\n",
       "      <td>False</td>\n",
       "      <td>False</td>\n",
       "      <td>False</td>\n",
       "    </tr>\n",
       "    <tr>\n",
       "      <th>...</th>\n",
       "      <td>...</td>\n",
       "      <td>...</td>\n",
       "      <td>...</td>\n",
       "      <td>...</td>\n",
       "      <td>...</td>\n",
       "    </tr>\n",
       "    <tr>\n",
       "      <th>294473</th>\n",
       "      <td>False</td>\n",
       "      <td>False</td>\n",
       "      <td>False</td>\n",
       "      <td>False</td>\n",
       "      <td>False</td>\n",
       "    </tr>\n",
       "    <tr>\n",
       "      <th>294474</th>\n",
       "      <td>False</td>\n",
       "      <td>False</td>\n",
       "      <td>False</td>\n",
       "      <td>False</td>\n",
       "      <td>False</td>\n",
       "    </tr>\n",
       "    <tr>\n",
       "      <th>294475</th>\n",
       "      <td>False</td>\n",
       "      <td>False</td>\n",
       "      <td>False</td>\n",
       "      <td>False</td>\n",
       "      <td>False</td>\n",
       "    </tr>\n",
       "    <tr>\n",
       "      <th>294476</th>\n",
       "      <td>False</td>\n",
       "      <td>False</td>\n",
       "      <td>False</td>\n",
       "      <td>False</td>\n",
       "      <td>False</td>\n",
       "    </tr>\n",
       "    <tr>\n",
       "      <th>294477</th>\n",
       "      <td>False</td>\n",
       "      <td>False</td>\n",
       "      <td>False</td>\n",
       "      <td>False</td>\n",
       "      <td>False</td>\n",
       "    </tr>\n",
       "  </tbody>\n",
       "</table>\n",
       "<p>294478 rows × 5 columns</p>\n",
       "</div>"
      ],
      "text/plain": [
       "        user_id  timestamp  group  landing_page  converted\n",
       "0         False      False  False         False      False\n",
       "1         False      False  False         False      False\n",
       "2         False      False  False         False      False\n",
       "3         False      False  False         False      False\n",
       "4         False      False  False         False      False\n",
       "...         ...        ...    ...           ...        ...\n",
       "294473    False      False  False         False      False\n",
       "294474    False      False  False         False      False\n",
       "294475    False      False  False         False      False\n",
       "294476    False      False  False         False      False\n",
       "294477    False      False  False         False      False\n",
       "\n",
       "[294478 rows x 5 columns]"
      ]
     },
     "execution_count": 65,
     "metadata": {},
     "output_type": "execute_result"
    }
   ],
   "source": [
    "DF.isnull()"
   ]
  },
  {
   "cell_type": "markdown",
   "metadata": {},
   "source": [
    "`2.` For the rows where **treatment** is not aligned with **new_page** or **control** is not aligned with **old_page**, we cannot be sure if this row truly received the new or old page.  Use **Quiz 2** in the classroom to provide how we should handle these rows.  \n",
    "\n",
    "a. Now use the answer to the quiz to create a new dataset that meets the specifications from the quiz.  Store your new dataframe in **df2**."
   ]
  },
  {
   "cell_type": "code",
   "execution_count": 66,
   "metadata": {},
   "outputs": [],
   "source": [
    "df2 = DF\n",
    "\n",
    "df = mis1.index\n",
    "df2 = df2.drop(df)"
   ]
  },
  {
   "cell_type": "code",
   "execution_count": 67,
   "metadata": {},
   "outputs": [
    {
     "data": {
      "text/plain": [
       "0"
      ]
     },
     "execution_count": 67,
     "metadata": {},
     "output_type": "execute_result"
    }
   ],
   "source": [
    "# Double Check all of the correct rows were removed - this should be 0\n",
    "df2[((df2['group'] == 'treatment') == (df2['landing_page'] == 'new_page')) == False].shape[0]"
   ]
  },
  {
   "cell_type": "markdown",
   "metadata": {},
   "source": [
    "`3.` Use **df2** and the cells below to answer questions for **Quiz3** in the classroom."
   ]
  },
  {
   "cell_type": "markdown",
   "metadata": {},
   "source": [
    "a. How many unique **user_id**s are in **df2**?"
   ]
  },
  {
   "cell_type": "code",
   "execution_count": 68,
   "metadata": {},
   "outputs": [
    {
     "data": {
      "text/plain": [
       "user_id         290584\n",
       "timestamp       290585\n",
       "group                2\n",
       "landing_page         2\n",
       "converted            2\n",
       "dtype: int64"
      ]
     },
     "execution_count": 68,
     "metadata": {},
     "output_type": "execute_result"
    }
   ],
   "source": [
    "df2.nunique()"
   ]
  },
  {
   "cell_type": "markdown",
   "metadata": {
    "collapsed": true
   },
   "source": [
    "b. There is one **user_id** repeated in **df2**.  What is it?"
   ]
  },
  {
   "cell_type": "code",
   "execution_count": 69,
   "metadata": {},
   "outputs": [
    {
     "data": {
      "text/html": [
       "<div>\n",
       "<style scoped>\n",
       "    .dataframe tbody tr th:only-of-type {\n",
       "        vertical-align: middle;\n",
       "    }\n",
       "\n",
       "    .dataframe tbody tr th {\n",
       "        vertical-align: top;\n",
       "    }\n",
       "\n",
       "    .dataframe thead th {\n",
       "        text-align: right;\n",
       "    }\n",
       "</style>\n",
       "<table border=\"1\" class=\"dataframe\">\n",
       "  <thead>\n",
       "    <tr style=\"text-align: right;\">\n",
       "      <th></th>\n",
       "      <th>user_id</th>\n",
       "      <th>timestamp</th>\n",
       "      <th>group</th>\n",
       "      <th>landing_page</th>\n",
       "      <th>converted</th>\n",
       "    </tr>\n",
       "  </thead>\n",
       "  <tbody>\n",
       "    <tr>\n",
       "      <th>2893</th>\n",
       "      <td>773192</td>\n",
       "      <td>2017-01-14 02:55:59.590927</td>\n",
       "      <td>treatment</td>\n",
       "      <td>new_page</td>\n",
       "      <td>0</td>\n",
       "    </tr>\n",
       "  </tbody>\n",
       "</table>\n",
       "</div>"
      ],
      "text/plain": [
       "      user_id                   timestamp      group landing_page  converted\n",
       "2893   773192  2017-01-14 02:55:59.590927  treatment     new_page          0"
      ]
     },
     "execution_count": 69,
     "metadata": {},
     "output_type": "execute_result"
    }
   ],
   "source": [
    "df2[df2.duplicated('user_id')]"
   ]
  },
  {
   "cell_type": "markdown",
   "metadata": {},
   "source": [
    "c. What is the row information for the repeat **user_id**? "
   ]
  },
  {
   "cell_type": "code",
   "execution_count": 70,
   "metadata": {},
   "outputs": [
    {
     "data": {
      "text/html": [
       "<div>\n",
       "<style scoped>\n",
       "    .dataframe tbody tr th:only-of-type {\n",
       "        vertical-align: middle;\n",
       "    }\n",
       "\n",
       "    .dataframe tbody tr th {\n",
       "        vertical-align: top;\n",
       "    }\n",
       "\n",
       "    .dataframe thead th {\n",
       "        text-align: right;\n",
       "    }\n",
       "</style>\n",
       "<table border=\"1\" class=\"dataframe\">\n",
       "  <thead>\n",
       "    <tr style=\"text-align: right;\">\n",
       "      <th></th>\n",
       "      <th>user_id</th>\n",
       "      <th>timestamp</th>\n",
       "      <th>group</th>\n",
       "      <th>landing_page</th>\n",
       "      <th>converted</th>\n",
       "    </tr>\n",
       "  </thead>\n",
       "  <tbody>\n",
       "    <tr>\n",
       "      <th>1899</th>\n",
       "      <td>773192</td>\n",
       "      <td>2017-01-09 05:37:58.781806</td>\n",
       "      <td>treatment</td>\n",
       "      <td>new_page</td>\n",
       "      <td>0</td>\n",
       "    </tr>\n",
       "    <tr>\n",
       "      <th>2893</th>\n",
       "      <td>773192</td>\n",
       "      <td>2017-01-14 02:55:59.590927</td>\n",
       "      <td>treatment</td>\n",
       "      <td>new_page</td>\n",
       "      <td>0</td>\n",
       "    </tr>\n",
       "  </tbody>\n",
       "</table>\n",
       "</div>"
      ],
      "text/plain": [
       "      user_id                   timestamp      group landing_page  converted\n",
       "1899   773192  2017-01-09 05:37:58.781806  treatment     new_page          0\n",
       "2893   773192  2017-01-14 02:55:59.590927  treatment     new_page          0"
      ]
     },
     "execution_count": 70,
     "metadata": {},
     "output_type": "execute_result"
    }
   ],
   "source": [
    "df2[df2['user_id'] == 773192]"
   ]
  },
  {
   "cell_type": "markdown",
   "metadata": {},
   "source": [
    "d. Remove **one** of the rows with a duplicate **user_id**, but keep your dataframe as **df2**."
   ]
  },
  {
   "cell_type": "code",
   "execution_count": 71,
   "metadata": {},
   "outputs": [],
   "source": [
    "df2 = df2.drop(2893)"
   ]
  },
  {
   "cell_type": "markdown",
   "metadata": {},
   "source": [
    "`4.` Use **df2** in the below cells to answer the quiz questions related to **Quiz 4** in the classroom.\n",
    "\n",
    "a. What is the probability of an individual converting regardless of the page they receive?"
   ]
  },
  {
   "cell_type": "code",
   "execution_count": 72,
   "metadata": {},
   "outputs": [
    {
     "data": {
      "text/plain": [
       "0.11959708724499628"
      ]
     },
     "execution_count": 72,
     "metadata": {},
     "output_type": "execute_result"
    }
   ],
   "source": [
    "np.mean(df2['converted'])"
   ]
  },
  {
   "cell_type": "markdown",
   "metadata": {},
   "source": [
    "b. Given that an individual was in the `control` group, what is the probability they converted?"
   ]
  },
  {
   "cell_type": "code",
   "execution_count": 73,
   "metadata": {},
   "outputs": [
    {
     "data": {
      "text/plain": [
       "0.1203863045004612"
      ]
     },
     "execution_count": 73,
     "metadata": {},
     "output_type": "execute_result"
    }
   ],
   "source": [
    "control = df2.query(\"group == 'control'\")['converted'].mean()\n",
    "control"
   ]
  },
  {
   "cell_type": "markdown",
   "metadata": {},
   "source": [
    "c. Given that an individual was in the `treatment` group, what is the probability they converted?"
   ]
  },
  {
   "cell_type": "code",
   "execution_count": 74,
   "metadata": {},
   "outputs": [
    {
     "data": {
      "text/plain": [
       "0.11880806551510564"
      ]
     },
     "execution_count": 74,
     "metadata": {},
     "output_type": "execute_result"
    }
   ],
   "source": [
    "treatment = df2[df2['group'] == 'treatment']['converted'].mean()\n",
    "treatment"
   ]
  },
  {
   "cell_type": "markdown",
   "metadata": {},
   "source": [
    "d. What is the probability that an individual received the new page?"
   ]
  },
  {
   "cell_type": "code",
   "execution_count": 75,
   "metadata": {},
   "outputs": [
    {
     "data": {
      "text/plain": [
       "0.5000619442226688"
      ]
     },
     "execution_count": 75,
     "metadata": {},
     "output_type": "execute_result"
    }
   ],
   "source": [
    "(len(df2.query(\"landing_page == 'new_page'\"))/len(df2))"
   ]
  },
  {
   "cell_type": "markdown",
   "metadata": {},
   "source": [
    "e. Consider your results from a. through d. above, and explain below whether you think there is sufficient evidence to say that the new treatment page leads to more conversions."
   ]
  },
  {
   "cell_type": "markdown",
   "metadata": {},
   "source": [
    "**Your answer goes here.**\n",
    "As can be seen, the probability of individuals converted to the new page is less than the conversion probability in the old page. Also, there is not sufficient statistics and evidence to assure whether the new page is a success."
   ]
  },
  {
   "cell_type": "markdown",
   "metadata": {},
   "source": [
    "<a id='ab_test'></a>\n",
    "### Part II - A/B Test\n",
    "\n",
    "Notice that because of the time stamp associated with each event, you could technically run a hypothesis test continuously as each observation was observed.  \n",
    "\n",
    "However, then the hard question is do you stop as soon as one page is considered significantly better than another or does it need to happen consistently for a certain amount of time?  How long do you run to render a decision that neither page is better than another?  \n",
    "\n",
    "These questions are the difficult parts associated with A/B tests in general.  \n",
    "\n",
    "\n",
    "`1.` For now, consider you need to make the decision just based on all the data provided.  If you want to assume that the old page is better unless the new page proves to be definitely better at a Type I error rate of 5%, what should your null and alternative hypotheses be?  You can state your hypothesis in terms of words or in terms of **$p_{old}$** and **$p_{new}$**, which are the converted rates for the old and new pages."
   ]
  },
  {
   "cell_type": "markdown",
   "metadata": {},
   "source": [
    "**Put your answer here.** H0: old page would be greater or equal to new page = 0\n",
    "H1: New page would always be greater than old page >0."
   ]
  },
  {
   "cell_type": "markdown",
   "metadata": {},
   "source": [
    "`2.` Assume under the null hypothesis, $p_{new}$ and $p_{old}$ both have \"true\" success rates equal to the **converted** success rate regardless of page - that is $p_{new}$ and $p_{old}$ are equal. Furthermore, assume they are equal to the **converted** rate in **ab_data.csv** regardless of the page. <br><br>\n",
    "\n",
    "Use a sample size for each page equal to the ones in **ab_data.csv**.  <br><br>\n",
    "\n",
    "Perform the sampling distribution for the difference in **converted** between the two pages over 10,000 iterations of calculating an estimate from the null.  <br><br>\n",
    "\n",
    "Use the cells below to provide the necessary parts of this simulation.  If this doesn't make complete sense right now, don't worry - you are going to work through the problems below to complete this problem.  You can use **Quiz 5** in the classroom to make sure you are on the right track.<br><br>"
   ]
  },
  {
   "cell_type": "markdown",
   "metadata": {},
   "source": [
    "a. What is the **convert rate** for $p_{new}$ under the null? "
   ]
  },
  {
   "cell_type": "code",
   "execution_count": 76,
   "metadata": {},
   "outputs": [
    {
     "data": {
      "text/plain": [
       "0.11959708724499628"
      ]
     },
     "execution_count": 76,
     "metadata": {},
     "output_type": "execute_result"
    }
   ],
   "source": [
    "pnew =np.mean(df2['converted'])\n",
    "pnew"
   ]
  },
  {
   "cell_type": "markdown",
   "metadata": {},
   "source": [
    "b. What is the **convert rate** for $p_{old}$ under the null? <br><br>"
   ]
  },
  {
   "cell_type": "code",
   "execution_count": 77,
   "metadata": {},
   "outputs": [
    {
     "data": {
      "text/plain": [
       "0.11959708724499628"
      ]
     },
     "execution_count": 77,
     "metadata": {},
     "output_type": "execute_result"
    }
   ],
   "source": [
    "pold =np.mean(df2['converted'])\n",
    "pold"
   ]
  },
  {
   "cell_type": "markdown",
   "metadata": {},
   "source": [
    "c. What is $n_{new}$?"
   ]
  },
  {
   "cell_type": "code",
   "execution_count": 78,
   "metadata": {},
   "outputs": [
    {
     "data": {
      "text/plain": [
       "145310"
      ]
     },
     "execution_count": 78,
     "metadata": {},
     "output_type": "execute_result"
    }
   ],
   "source": [
    "new =(len(df2.query(\"landing_page == 'new_page'\")))\n",
    "new"
   ]
  },
  {
   "cell_type": "markdown",
   "metadata": {},
   "source": [
    "d. What is $n_{old}$?"
   ]
  },
  {
   "cell_type": "code",
   "execution_count": 79,
   "metadata": {},
   "outputs": [
    {
     "data": {
      "text/plain": [
       "145274"
      ]
     },
     "execution_count": 79,
     "metadata": {},
     "output_type": "execute_result"
    }
   ],
   "source": [
    "old =(len(df2.query(\"landing_page == 'old_page'\")))\n",
    "old"
   ]
  },
  {
   "cell_type": "markdown",
   "metadata": {},
   "source": [
    "e. Simulate $n_{new}$ transactions with a convert rate of $p_{new}$ under the null.  Store these $n_{new}$ 1's and 0's in **new_page_converted**."
   ]
  },
  {
   "cell_type": "code",
   "execution_count": 80,
   "metadata": {},
   "outputs": [
    {
     "data": {
      "text/plain": [
       "0.1178101988851421"
      ]
     },
     "execution_count": 80,
     "metadata": {},
     "output_type": "execute_result"
    }
   ],
   "source": [
    "new_page_converted = np.random.choice([1, 0], size= new, p=[pnew, (1-pnew)])\n",
    "new_page_converted.mean()\n"
   ]
  },
  {
   "cell_type": "markdown",
   "metadata": {},
   "source": [
    "f. Simulate $n_{old}$ transactions with a convert rate of $p_{old}$ under the null.  Store these $n_{old}$ 1's and 0's in **old_page_converted**."
   ]
  },
  {
   "cell_type": "code",
   "execution_count": 81,
   "metadata": {},
   "outputs": [
    {
     "data": {
      "text/plain": [
       "0.11925051970758704"
      ]
     },
     "execution_count": 81,
     "metadata": {},
     "output_type": "execute_result"
    }
   ],
   "source": [
    "old_page_converted = np.random.choice([1, 0], size = old, p=[pold, (1-pold)])\n",
    "old_page_converted.mean()"
   ]
  },
  {
   "cell_type": "markdown",
   "metadata": {},
   "source": [
    "g. Find $p_{new}$ - $p_{old}$ for your simulated values from part (e) and (f)."
   ]
  },
  {
   "cell_type": "code",
   "execution_count": 82,
   "metadata": {},
   "outputs": [
    {
     "data": {
      "text/plain": [
       "-0.0014403208224449404"
      ]
     },
     "execution_count": 82,
     "metadata": {},
     "output_type": "execute_result"
    }
   ],
   "source": [
    "np.mean(new_page_converted) - np.mean(old_page_converted)"
   ]
  },
  {
   "cell_type": "markdown",
   "metadata": {},
   "source": [
    "h. Simulate 10,000 $p_{new}$ - $p_{old}$ values using this same process similarly to the one you calculated in parts **a. through g.** above.  Store all 10,000 values in a numpy array called **p_diffs**."
   ]
  },
  {
   "cell_type": "code",
   "execution_count": 83,
   "metadata": {},
   "outputs": [
    {
     "data": {
      "text/plain": [
       "[-0.0020392880793489304,\n",
       " 0.0010094790757059074,\n",
       " -0.0004152559739492856,\n",
       " 0.00011509924468160182,\n",
       " -0.00046302637797160373,\n",
       " -0.0009792853714267885,\n",
       " -0.0005321295633526901,\n",
       " -0.0015574757982122767,\n",
       " 0.0006931754115496042,\n",
       " 0.0019869918077827647,\n",
       " 0.0008857526387975045,\n",
       " 0.00205589546465125,\n",
       " -0.0003737415372660202,\n",
       " -0.0003119840518697875,\n",
       " 0.0002593586435264278,\n",
       " -0.0012205777787310523,\n",
       " -0.0019086405800594342,\n",
       " 0.00193202236575922,\n",
       " 0.0001355452326509965,\n",
       " -0.0008348861320859463,\n",
       " -0.00016019988899033943,\n",
       " 0.0003904631824858257,\n",
       " -0.0011584382900286377,\n",
       " 0.0013608092786276255,\n",
       " 0.0010646088226882872,\n",
       " -0.0010140680420101245,\n",
       " 0.000686041177680688,\n",
       " 0.0011680325228671101,\n",
       " 0.0004727843265127374,\n",
       " -0.0017227951189114493,\n",
       " -0.0006284650747039461,\n",
       " 0.0001492338739419452,\n",
       " 0.0018216861300588277,\n",
       " -0.00032571362208640153,\n",
       " -0.0005528023657851294,\n",
       " 0.0003900828845515292,\n",
       " -0.00029801572958679245,\n",
       " 0.001202148393036534,\n",
       " -0.0024662690535861564,\n",
       " -0.001585366397736876,\n",
       " 0.0012781948106334456,\n",
       " -0.0010552345828252485,\n",
       " -0.0005043839204398048,\n",
       " -0.0007386887558587796,\n",
       " 0.0013606728488754077,\n",
       " 0.00030065649797804406,\n",
       " -0.00013962088201252554,\n",
       " -0.0003669637261247416,\n",
       " -0.00019500472940842117,\n",
       " 0.0008652077392577451,\n",
       " -0.0003533006654123372,\n",
       " -0.0006697646345274755,\n",
       " -0.002287322484984519,\n",
       " -0.000201376662036859,\n",
       " -0.0003531181906187564,\n",
       " -0.0006215337800914433,\n",
       " -0.0003669415562900097,\n",
       " 0.0011059049717680042,\n",
       " 0.0026336953612710323,\n",
       " 0.0017254375926745863,\n",
       " -0.0019430531849399246,\n",
       " -0.001247750416684651,\n",
       " 0.00021816993287657183,\n",
       " -0.001144793988407139,\n",
       " 0.0012162565558155314,\n",
       " -0.00011924140354734047,\n",
       " 0.00010797694841598038,\n",
       " -0.0020669228730881284,\n",
       " 0.0021522275652587214,\n",
       " -0.0016472739558605343,\n",
       " -0.0024521967036171127,\n",
       " 0.0007409799230099767,\n",
       " 0.0001907585428566061,\n",
       " -0.00018796088025033186,\n",
       " 0.0008444513736020759,\n",
       " 0.0003352652206273232,\n",
       " 0.000988964872860404,\n",
       " 0.0033634414311010385,\n",
       " 0.0017529530103806146,\n",
       " 0.000583054052708934,\n",
       " 0.0007068077755677804,\n",
       " -0.0011721422796667075,\n",
       " 0.0006378273769636761,\n",
       " -0.0008831459778443074,\n",
       " 0.0007825250563874842,\n",
       " 0.0012369378851075086,\n",
       " -0.0007728915999952457,\n",
       " 0.0003901835014937932,\n",
       " -0.0012340668915094,\n",
       " 0.00048652583433266006,\n",
       " -0.0006351968408038478,\n",
       " -0.001399082656009909,\n",
       " 9.446907654671322e-05,\n",
       " 0.0007965684150341851,\n",
       " 0.0017322750918324498,\n",
       " 0.0001079121442836839,\n",
       " 0.0004934008516723903,\n",
       " -0.001117213766568828,\n",
       " -0.001385322389099039,\n",
       " -0.0026726201907201347,\n",
       " -0.0011378166487532732,\n",
       " 0.0010303786926013914,\n",
       " 0.0006586025017102787,\n",
       " -0.0008552690212949299,\n",
       " 0.0023448713020108036,\n",
       " 0.00018369934535139576,\n",
       " 0.0003075281045739481,\n",
       " -0.0005665882132745437,\n",
       " -0.0030236860609969413,\n",
       " -0.0006627105531379768,\n",
       " 4.630984773058844e-05,\n",
       " 0.00012187535045096731,\n",
       " 0.00032137022933614867,\n",
       " 0.00038336646679874853,\n",
       " 0.0011749024240911426,\n",
       " -7.112651440067952e-05,\n",
       " -0.0011999834234061313,\n",
       " 0.0023312321165050442,\n",
       " 0.0005486789660103242,\n",
       " -0.0013375110561510556,\n",
       " 0.0006173387546967168,\n",
       " -0.0016401806509172834,\n",
       " 0.0006311075484670969,\n",
       " -0.002053220588821958,\n",
       " -0.0013924191047861023,\n",
       " -4.3401335950640774e-05,\n",
       " -0.0002911475337347008,\n",
       " -0.0004494315321352804,\n",
       " -0.0015852163250094364,\n",
       " 0.001332816356788863,\n",
       " 0.0017942048197908539,\n",
       " -0.001488585784319027,\n",
       " -0.0007865563660795633,\n",
       " -5.729973798562771e-05,\n",
       " -0.00018101764803449272,\n",
       " 0.0014844692060318188,\n",
       " 0.0007618352002360107,\n",
       " -0.00026352638297071074,\n",
       " 0.0016359702771754359,\n",
       " -0.001660778416986003,\n",
       " 0.003060328439640131,\n",
       " 0.0011062511622642462,\n",
       " -0.0009380369727603477,\n",
       " -0.001612627715029416,\n",
       " -0.00022928772602429093,\n",
       " 0.000982185356347226,\n",
       " -0.0002567485718294321,\n",
       " -0.001681297735947218,\n",
       " 7.376216667621949e-05,\n",
       " -7.785657512868194e-05,\n",
       " 9.419280629847926e-05,\n",
       " -0.00016034655097396655,\n",
       " 0.0014570868073341958,\n",
       " -0.0006559890192694845,\n",
       " 0.00021810171800046296,\n",
       " 0.0006036501134057681,\n",
       " -0.0008420527680210177,\n",
       " -0.00016023911254409162,\n",
       " -0.0003461954228657499,\n",
       " 0.0005345708032313129,\n",
       " -0.00011197415067000505,\n",
       " 0.001731916963732899,\n",
       " 0.0006655832521079708,\n",
       " 0.0024548391773802497,\n",
       " 4.638516832300432e-06,\n",
       " 0.00010113944925813079,\n",
       " -0.00014655388199694142,\n",
       " -0.0013233756074216146,\n",
       " 8.714213565279294e-05,\n",
       " -0.00015332828239442153,\n",
       " -0.00038063531369667003,\n",
       " 0.0005760067928070461,\n",
       " 0.00022473627790191297,\n",
       " 0.00043839218609509345,\n",
       " -0.001103313659161942,\n",
       " 0.0006518894947013104,\n",
       " -0.0007867439569888418,\n",
       " 0.0004315103472677523,\n",
       " 0.0009616506890388898,\n",
       " -0.0013649906610471163,\n",
       " 0.0006516388050316207,\n",
       " -0.0011857183664120974,\n",
       " -0.00042170294294144317,\n",
       " 0.0010236315781543825,\n",
       " 0.0005003492000039272,\n",
       " 0.0010649362540935958,\n",
       " -0.000999745002371405,\n",
       " 0.0016018185941960583,\n",
       " -0.002438560928855138,\n",
       " 0.0009890961864968961,\n",
       " -0.0013718162226016711,\n",
       " 0.0005691403023268399,\n",
       " -0.0016125867861037368,\n",
       " -0.0003391157608977208,\n",
       " 0.0008855531102848896,\n",
       " 0.0007894648778595109,\n",
       " -0.0017501655800057497,\n",
       " -0.00013291981260686592,\n",
       " -0.0024730110519174675,\n",
       " 0.0013402984865259204,\n",
       " -0.00029117823042894286,\n",
       " 0.0010850906234676494,\n",
       " -0.0015298000755474134,\n",
       " 0.00036261010114307934,\n",
       " -0.0014681176265148865,\n",
       " 0.0013331523150536817,\n",
       " -0.0007248415149808812,\n",
       " -0.00010559369118205708,\n",
       " 0.0011676812162551703,\n",
       " 0.0009617734758158719,\n",
       " 0.0010787562090210506,\n",
       " 0.0009614289906915569,\n",
       " 0.0006382400769641139,\n",
       " -0.0017089529941492487,\n",
       " -0.0003738728509025263,\n",
       " 0.0004316928220613331,\n",
       " 0.00018378461394653878,\n",
       " -0.0006010400417087725,\n",
       " 0.0015531989149662334,\n",
       " -0.0012479380075939295,\n",
       " -0.0006631266638822131,\n",
       " 0.0013126619874148232,\n",
       " 0.0005970888844961247,\n",
       " -0.0008486446936249031,\n",
       " -0.0014886284186165777,\n",
       " -0.0014130236923424605,\n",
       " 0.0023930237093393175,\n",
       " -0.00020873771036884758,\n",
       " 0.0029848055712173166,\n",
       " 0.00034917044414990717,\n",
       " 0.0019248233277580074,\n",
       " -0.00011903846429092702,\n",
       " -0.0006695531684115519,\n",
       " -0.0005389005530063579,\n",
       " -0.0005804576239871739,\n",
       " -0.0019153774622750475,\n",
       " -0.0012682816732491747,\n",
       " -0.0012204345274912376,\n",
       " -0.0002362139045211098,\n",
       " 7.335287741958019e-05,\n",
       " -0.001385544087446386,\n",
       " 0.00014923899005764296,\n",
       " 0.00315703401669426,\n",
       " 0.0008031074741090966,\n",
       " -0.0005321415009559988,\n",
       " 0.0024548698740744918,\n",
       " 0.0006037780162984618,\n",
       " -0.00039438023226041896,\n",
       " 0.00017667596065615299,\n",
       " -0.001798404961301292,\n",
       " -0.00034621588732859643,\n",
       " -0.0002500799044899277,\n",
       " 0.00021145863123950281,\n",
       " -0.0010484823522625142,\n",
       " 0.0011406296597066684,\n",
       " 0.0018492220122276748,\n",
       " 0.0010164666475911965,\n",
       " -0.0003602200224215313,\n",
       " 8.047176294137537e-05,\n",
       " -0.0010755168550919958,\n",
       " 0.00032844989130419167,\n",
       " 0.0014226059875776104,\n",
       " -0.0013511587685163529,\n",
       " -0.0004357428908443317,\n",
       " 0.0007205356404124813,\n",
       " 0.0010577713235304237,\n",
       " -0.0008691623072142052,\n",
       " -0.001853183401671732,\n",
       " 0.0021658565185330853,\n",
       " -0.0006217435408354677,\n",
       " 0.00045200238027851003,\n",
       " -0.0014888586438234486,\n",
       " -0.000752200038471873,\n",
       " 0.0005004378793428688,\n",
       " -0.0016814750946251011,\n",
       " 0.00019753976474168322,\n",
       " -0.0008624254249985919,\n",
       " -0.001309787583072916,\n",
       " 0.001160891467510583,\n",
       " -0.0004631269949138539,\n",
       " -0.0015574604498651418,\n",
       " 0.00034903060365389094,\n",
       " -0.0013232971603140964,\n",
       " 0.0007688466473279448,\n",
       " -0.0008074969119007264,\n",
       " -0.0008554344423695043,\n",
       " 0.00039688798164325134,\n",
       " -0.0002705821697321087,\n",
       " -5.711044170443602e-05,\n",
       " 0.0005692682052195336,\n",
       " -0.0004770680312463915,\n",
       " 0.00034171048424758155,\n",
       " 0.0017117711212183556,\n",
       " -0.0008624697646680557,\n",
       " 8.056214765223002e-05,\n",
       " 0.002179567329658766,\n",
       " -0.0012618449364884265,\n",
       " -0.00023586430328106922,\n",
       " -0.0010826408567295026,\n",
       " -0.00023619685080207564,\n",
       " 0.0020281464109945663,\n",
       " 0.00014944363468596955,\n",
       " -9.857712797441132e-05,\n",
       " 0.0009197661866527651,\n",
       " 2.5480151083098757e-05,\n",
       " -0.0014406516645940337,\n",
       " 0.0018699732617676462,\n",
       " 0.0009616967340802529,\n",
       " 0.0005415686073480253,\n",
       " -0.00026383334991317287,\n",
       " 0.0010442327549669006,\n",
       " -0.000848636166765393,\n",
       " -9.194938956055831e-05,\n",
       " -0.0010276014944579498,\n",
       " -0.0006700085027095543,\n",
       " 0.001773656509507296,\n",
       " -0.0020530858644416533,\n",
       " 6.655971793118054e-05,\n",
       " 0.0011058555159828287,\n",
       " -2.263473806354832e-05,\n",
       " -0.0016676756041604651,\n",
       " -0.0004975685911166733,\n",
       " 0.0024620177509186436,\n",
       " 4.5909085333473154e-05,\n",
       " 0.0007137578292712166,\n",
       " 0.0007207709817350499,\n",
       " -2.9533630609909767e-05,\n",
       " -0.0011927229920164067,\n",
       " -0.0021493531609168143,\n",
       " 0.00079626826957932,\n",
       " -0.0008558300886509079,\n",
       " 0.0015397507311135372,\n",
       " -0.00025672128587898857,\n",
       " 0.00045903940794900233,\n",
       " -0.0004083332061962791,\n",
       " 0.00014232304379226124,\n",
       " 3.234493619140577e-05,\n",
       " -0.0010688891166781428,\n",
       " -0.001488607954153759,\n",
       " 0.0014159117396595755,\n",
       " 5.093851130302807e-06,\n",
       " -0.0014749414826975282,\n",
       " -0.0007592438876299484,\n",
       " -0.0028928032203848902,\n",
       " -0.0008555197109646195,\n",
       " -0.0018742535557575019,\n",
       " -0.0006971862567788506,\n",
       " 0.0009063111813124719,\n",
       " -0.0013168143785119851,\n",
       " -0.002259530797030271,\n",
       " 0.0003489964962158365,\n",
       " -0.0008418873469464572,\n",
       " 0.0003353658375695734,\n",
       " 0.0010990964639324974,\n",
       " -0.0009726900350790907,\n",
       " 0.000610460326613188,\n",
       " 0.0006792514289361007,\n",
       " 0.0009202453961574125,\n",
       " 0.0006656207702898237,\n",
       " -0.0012549324009668433,\n",
       " 8.050075426373204e-05,\n",
       " -0.00031861349565553976,\n",
       " 0.0003970738671806445,\n",
       " -6.390701193663417e-05,\n",
       " -7.779859248399634e-05,\n",
       " -0.00043534724456292806,\n",
       " 0.000865253784299122,\n",
       " -0.00024991789415916565,\n",
       " 0.001016707105029463,\n",
       " -3.656042604896492e-05,\n",
       " -0.001034474806425767,\n",
       " 0.00025245292949245546,\n",
       " 0.0001146967769125734,\n",
       " 4.757892865484004e-06,\n",
       " -9.024543880117863e-06,\n",
       " 0.002179744688336635,\n",
       " -0.0013100126921640615,\n",
       " 0.00025963491377464787,\n",
       " -0.0018603227516563736,\n",
       " -0.0010482794130061007,\n",
       " -0.0004768378060395345,\n",
       " 0.0008101103943415067,\n",
       " 0.002847320572769957,\n",
       " 0.0025376992189283937,\n",
       " -0.0013718162226016711,\n",
       " 0.0008790924983175102,\n",
       " -0.0005735041595399254,\n",
       " 0.0018012520796927417,\n",
       " 0.00045896266621338333,\n",
       " 0.0007685959576582552,\n",
       " 0.0005691846419963037,\n",
       " 0.0014431781730677995,\n",
       " -0.0016677387029208623,\n",
       " 0.0015876916723261275,\n",
       " 0.0007482079523335461,\n",
       " 6.659041462543647e-05,\n",
       " 0.0006380286108481903,\n",
       " 0.001801139525147169,\n",
       " 0.00029395542857238444,\n",
       " 0.0023932471130585775,\n",
       " 0.0007757370130147961,\n",
       " 0.0008167449542429567,\n",
       " 0.0017876521177407345,\n",
       " 0.001099353975089784,\n",
       " -0.0027486069203004615,\n",
       " -0.0029270350558436853,\n",
       " -0.0008348230333255352,\n",
       " 0.0011335687568295588,\n",
       " -0.0008555248270803312,\n",
       " 0.0006104552104974903,\n",
       " 0.0006173438708124285,\n",
       " 0.002331228705761232,\n",
       " -0.0019154593201263642,\n",
       " 0.00025966390509700454,\n",
       " 0.000238772815061003,\n",
       " 3.2343230819520397e-05,\n",
       " -0.00042884399829798414,\n",
       " 0.001161198434453059,\n",
       " -0.0008353960382848358,\n",
       " 0.0009339766717459258,\n",
       " -7.791285240146828e-05,\n",
       " -0.001495619401245693,\n",
       " 0.0003832010457242019,\n",
       " -0.00040113757893885105,\n",
       " -0.000621692379678393,\n",
       " 0.000899608406534913,\n",
       " 0.002868099108260372,\n",
       " -0.00021558544175812044,\n",
       " 0.0007134184602625854,\n",
       " -0.0005596859099843698,\n",
       " -0.0017435924134927838,\n",
       " 0.0013471717984937376,\n",
       " 0.00035570609248102014,\n",
       " -0.0007248398096089959,\n",
       " -0.001082651088960912,\n",
       " 0.0012986015750490881,\n",
       " 0.0010784424205909776,\n",
       " 0.000417617061348477,\n",
       " 6.666886173295472e-05,\n",
       " 0.0009479484047727055,\n",
       " -0.001275547220754597,\n",
       " 0.0005210629313620319,\n",
       " 0.0009615313130057063,\n",
       " -0.0006009513623698448,\n",
       " 0.002042205117988402,\n",
       " -0.0008828236625547242,\n",
       " 0.0011472267014262655,\n",
       " 0.001236948117338904,\n",
       " -0.0016400578641402874,\n",
       " -0.0007246777992782338,\n",
       " -0.0008073673036361195,\n",
       " -0.00162648518813871,\n",
       " -0.00024277172268692693,\n",
       " 0.00012194185995517692,\n",
       " 1.1672133758966474e-05,\n",
       " -0.0005321210364931661,\n",
       " 0.0007067259177164498,\n",
       " -0.0001673477658344774,\n",
       " -4.355652479377803e-05,\n",
       " 0.003604379121049564,\n",
       " -0.0009451933764640097,\n",
       " 0.00031409274422740385,\n",
       " -0.0009795991598568615,\n",
       " 0.0007343726490589703,\n",
       " -0.0009450160177861266,\n",
       " -0.0006010707384030284,\n",
       " -0.0003048685770917908,\n",
       " -0.0004838628961066904,\n",
       " 0.0010578975210512181,\n",
       " -8.963150491619887e-06,\n",
       " -0.0006701159411394153,\n",
       " 0.0014640283341781218,\n",
       " -0.0004909579064218544,\n",
       " -9.170893212229192e-05,\n",
       " -0.0006077308788830088,\n",
       " 0.0014088252562039216,\n",
       " -0.0013097807615853052,\n",
       " 0.0003693606263339144,\n",
       " 0.0032327120739602117,\n",
       " 0.0018768772704297054,\n",
       " 0.00043843482039264414,\n",
       " -0.0007868002342616282,\n",
       " 0.0005071389487485145,\n",
       " 0.0002938701599772414,\n",
       " -0.0009105266711700311,\n",
       " 0.0008720230685808905,\n",
       " -0.0008486532204844133,\n",
       " 0.0015119726861345106,\n",
       " 0.0004866059868121053,\n",
       " 0.0002112966209087408,\n",
       " -0.0004079614351215066,\n",
       " -0.0019290763357974194,\n",
       " 0.0015256476844502515,\n",
       " -0.0025140616274432065,\n",
       " 0.0026336817182958105,\n",
       " -0.001041262849798455,\n",
       " 0.00018358338006202457,\n",
       " -0.0015783003787440547,\n",
       " 0.0009544345973186291,\n",
       " 0.002262145984842978,\n",
       " -0.0006423037887223482,\n",
       " 1.1781277560740655e-05,\n",
       " -0.0007798177784920507,\n",
       " -0.00033269607785600674,\n",
       " -0.0001808761021665911,\n",
       " -0.00023603313509941437,\n",
       " -0.00039440751821084863,\n",
       " 0.002152178109473546,\n",
       " -0.00024271203467034208,\n",
       " -0.00029108272960239046,\n",
       " 0.0014500753602422617,\n",
       " 0.0010923783408078036,\n",
       " 0.0019184837971957108,\n",
       " -9.146506394021314e-05,\n",
       " 0.00023879327952383567,\n",
       " 0.0005899751150900273,\n",
       " -0.0007593854334978778,\n",
       " 0.001202295055020161,\n",
       " -2.27438818653225e-05,\n",
       " -0.0008899510749360434,\n",
       " 0.001071657787962088,\n",
       " -0.0004426298457873845,\n",
       " -0.0011446609693987475,\n",
       " 0.0002250841737700543,\n",
       " -0.00157843339775246,\n",
       " 0.0015463801748992756,\n",
       " 0.000878707084267516,\n",
       " 0.00047275362981848146,\n",
       " 0.0003972580473461107,\n",
       " -0.0002497268925060886,\n",
       " 0.00039707045643683214,\n",
       " -0.0011035541166002083,\n",
       " 0.0016358952408117161,\n",
       " -0.0009659633850948868,\n",
       " 0.0006450315310806143,\n",
       " 0.001291851049858253,\n",
       " 0.00010119913727471563,\n",
       " -0.00023637932559565644,\n",
       " 0.00017002605240758195,\n",
       " 0.0002940082951013584,\n",
       " 0.0006859917218954986,\n",
       " 4.834634601103005e-06,\n",
       " 0.0011404983460701623,\n",
       " 0.000458989952163813,\n",
       " 0.0011751326492979858,\n",
       " 0.0014775771349730543,\n",
       " 0.0018629038320310265,\n",
       " 0.0019045308232598368,\n",
       " -0.0020944843358355336,\n",
       " -2.295364260933297e-05,\n",
       " 0.00031459241819487005,\n",
       " 0.00032146743553460033,\n",
       " 1.8492579197809667e-05,\n",
       " -0.001536983765201505,\n",
       " -0.00013265206921816985,\n",
       " 0.0004797548446789923,\n",
       " 0.00032124062107154183,\n",
       " 8.025347533784088e-05,\n",
       " 0.002138373502893212,\n",
       " -0.00011234592174477753,\n",
       " -0.001103352882715708,\n",
       " 0.0026133858030538554,\n",
       " -0.0003255157989456997,\n",
       " 0.0010097297653755832,\n",
       " -0.0009172379728071001,\n",
       " 0.000892666879690987,\n",
       " 0.0003695055829456284,\n",
       " 0.0004316757683422989,\n",
       " -3.6649105387906444e-05,\n",
       " -8.478104825358768e-05,\n",
       " 0.0001356833677750996,\n",
       " -6.42105681352978e-05,\n",
       " -0.0015644019767090678,\n",
       " 0.001464168174674152,\n",
       " 0.00023878134192052702,\n",
       " -0.0023422902216361646,\n",
       " 0.0004314625968544761,\n",
       " -0.000297898058925522,\n",
       " -0.0015231808639930705,\n",
       " -0.00039438364300421747,\n",
       " -0.0018190845852213422,\n",
       " 0.0011060226424292885,\n",
       " 0.00010801105585404869,\n",
       " -0.0009587183020522971,\n",
       " 0.001009559228185325,\n",
       " 0.001959404764456843,\n",
       " -0.0006353469135312872,\n",
       " -0.002039468848770612,\n",
       " 0.0016225988350583725,\n",
       " 0.0033084907481684134,\n",
       " 0.0006860377669368756,\n",
       " 0.0024345125654440386,\n",
       " 0.0006174700683332229,\n",
       " -0.0014267532625590607,\n",
       " 0.0003971267337096185,\n",
       " -0.0006834464543308133,\n",
       " -0.0016402369281900697,\n",
       " -0.00011211740190983366,\n",
       " 0.000878661039226139,\n",
       " -0.0001400284658972517,\n",
       " 0.0005417732519763518,\n",
       " -0.000993309970982556,\n",
       " 0.001677143639478157,\n",
       " -0.001254685122040966,\n",
       " 0.000404225154768581,\n",
       " 0.0006106615604976884,\n",
       " 0.00045202625548515507,\n",
       " -0.0011723776209892761,\n",
       " 0.0013742591678521932,\n",
       " -0.0015022931847008952,\n",
       " -0.0001054402077108052,\n",
       " -0.0012342800629972228,\n",
       " 0.0006722979644888522,\n",
       " 0.0003697034060863441,\n",
       " 0.00030768840953281085,\n",
       " -0.0006766686431895347,\n",
       " 0.0010441065574461061,\n",
       " -0.0014887836074597288,\n",
       " -0.0003600017348179968,\n",
       " 0.0002113222014872851,\n",
       " -0.0010966773938885926,\n",
       " 0.001003124196796476,\n",
       " -0.0018329574066777848,\n",
       " -0.0024731253118349533,\n",
       " -0.001062034563801259,\n",
       " 0.0018284588250843808,\n",
       " -0.001240786720005993,\n",
       " 0.0013879546306307666,\n",
       " -0.00042200479376820754,\n",
       " -0.0005596040521330392,\n",
       " -2.927782482450847e-05,\n",
       " -0.0007868360470715957,\n",
       " -0.0010073959639268215,\n",
       " -0.0005664756587289571,\n",
       " -0.0006696776605604471,\n",
       " -0.000752452433513448,\n",
       " -0.0008761345307523871,\n",
       " -0.001186160057734864,\n",
       " -0.0016745267462935504,\n",
       " -0.002610678525158408,\n",
       " -0.0002634956862764548,\n",
       " 0.00012159908020273336,\n",
       " -0.0015024637218911674,\n",
       " -0.00041486714915547895,\n",
       " 0.0008994651552950844,\n",
       " 8.071051500775639e-05,\n",
       " 8.709438523951674e-05,\n",
       " 0.000596614791107189,\n",
       " 0.00033515607682554904,\n",
       " 0.00108526457140172,\n",
       " 0.00021820745105842476,\n",
       " -0.0005527051595866778,\n",
       " -0.0004976726188027358,\n",
       " -0.000745434164933903,\n",
       " -0.0022248760293396286,\n",
       " -9.867603954476223e-05,\n",
       " 0.0003697460403839087,\n",
       " 0.0022415874423280108,\n",
       " -0.0014266696993358308,\n",
       " -0.0011307403975290287,\n",
       " 4.829518485391371e-06,\n",
       " -0.001323484751223375,\n",
       " -0.002390493790121767,\n",
       " -0.000848712908501012,\n",
       " -0.0005665080607951123,\n",
       " -0.0015852077981499263,\n",
       " 1.1638026320912043e-05,\n",
       " 6.0134918773754875e-05,\n",
       " -0.0007866655098813236,\n",
       " -0.0011787683127086612,\n",
       " 0.0012502990949931486,\n",
       " 0.0008167654187058032,\n",
       " -0.0003392249046994811,\n",
       " -0.00029809929281002234,\n",
       " -0.0020668870602781886,\n",
       " -0.00012593224072157683,\n",
       " -0.0006217486569511793,\n",
       " -0.0010000349155948468,\n",
       " 0.0009200646267357171,\n",
       " -0.0012342237857244504,\n",
       " -0.0010138633973818117,\n",
       " -0.0008071797127268132,\n",
       " 0.0013263847361438263,\n",
       " 0.0012160809025095753,\n",
       " -0.0018193148104281992,\n",
       " 0.0009820403997354982,\n",
       " 0.00017009426728369081,\n",
       " 0.0008581860599344016,\n",
       " -0.0015025080615606312,\n",
       " 0.0003695311635241866,\n",
       " 0.0001082191112261599,\n",
       " 0.00028723730544770454,\n",
       " 0.0006999992677322459,\n",
       " -0.00032568463076405874,\n",
       " -4.3326299586921024e-05,\n",
       " -9.831620607329838e-05,\n",
       " -0.0004289770173063756,\n",
       " -0.0013373643941674285,\n",
       " 0.0008029608121254556,\n",
       " 0.0016015423239478244,\n",
       " -0.0007178590592113038,\n",
       " 0.0012570103966302176,\n",
       " -0.0007869741821957127,\n",
       " -0.0004217541040985179,\n",
       " -0.0007657266694320736,\n",
       " -0.0006766055444291513,\n",
       " -0.0013305217788938534,\n",
       " 4.781768072115167e-06,\n",
       " 0.0007893472071982127,\n",
       " 0.0007000060892198567,\n",
       " 0.000349061300348133,\n",
       " -0.0010208850767051691,\n",
       " 4.605915806091265e-05,\n",
       " 0.0008030068571668325,\n",
       " 0.0002455676799213019,\n",
       " -0.002211625668627648,\n",
       " -0.0030579895220756437,\n",
       " -0.000387462580623138,\n",
       " -0.0009039500939132805,\n",
       " -0.0013925367754474005,\n",
       " 0.0018700738787098964,\n",
       " -0.002404074992982841,\n",
       " -0.0019429491572538482,\n",
       " 0.0013882939996393978,\n",
       " 0.0016632435320712707,\n",
       " 0.0003007519988045826,\n",
       " -0.00047020495150998376,\n",
       " 0.0009819892385784235,\n",
       " 0.0007758529783041673,\n",
       " 0.0003764164130953124,\n",
       " -0.00032523952869746575,\n",
       " -0.0002359905008018498,\n",
       " 0.00018390057923590997,\n",
       " -0.00039433077647522963,\n",
       " 0.0007001527512034977,\n",
       " -0.0006833816501985168,\n",
       " -0.0004630758337567792,\n",
       " 1.8480641594487146e-05,\n",
       " 0.0011609647985024035,\n",
       " -0.0005938239499885256,\n",
       " 0.00030089354467251195,\n",
       " 0.00010778935750670182,\n",
       " -2.2721712030576713e-05,\n",
       " 0.001278083961459786,\n",
       " -0.0007384585306519365,\n",
       " 0.00033517824666028095,\n",
       " -0.0009105232604262187,\n",
       " -0.001881166091279085,\n",
       " -0.0012409453195929288,\n",
       " -0.0009106579848065233,\n",
       " -0.0006490611354007803,\n",
       " 0.003212145004585734,\n",
       " -0.000366760786868342,\n",
       " 0.0013193801105394892,\n",
       " -0.0011099089955096397,\n",
       " -0.0004425087643822878,\n",
       " 0.0005966966489585196,\n",
       " -0.00022929966362761345,\n",
       " 0.0003145549000130171,\n",
       " -0.0008279531321015304,\n",
       " 0.0020145106362326054,\n",
       " -0.00035976980423922666,\n",
       " 0.001601738441716627,\n",
       " -0.0012271151324340646,\n",
       " 0.0002526882708150102,\n",
       " 0.00016299414085280128,\n",
       " 0.001229921321899849,\n",
       " -0.0011310234892648735,\n",
       " -0.0005870154421529911,\n",
       " 0.00036927706311068453,\n",
       " 0.0027303344288209797,\n",
       " -5.0404256183064766e-05,\n",
       " 0.0010921412941133357,\n",
       " -3.6499032660466946e-05,\n",
       " -0.001295942047566917,\n",
       " -0.0007317080054610875,\n",
       " 0.0002663615637588379,\n",
       " -0.0015853987998030172,\n",
       " -0.0013716712659899571,\n",
       " -0.00011243289571180592,\n",
       " -0.0030236178461208324,\n",
       " -0.00031177429112576316,\n",
       " -0.00019474380750730824,\n",
       " -0.0018400183095548944,\n",
       " 0.0014843464192548228,\n",
       " -0.00024991107267155477,\n",
       " -0.0009383951008598984,\n",
       " -0.0006353111007213336,\n",
       " 0.0004935117008460638,\n",
       " 0.00040385508906572165,\n",
       " 0.00028715715296827315,\n",
       " -0.0007591552082910069,\n",
       " 0.000823773455053925,\n",
       " -0.0023699164885158663,\n",
       " -0.00239053130830362,\n",
       " 0.000555640957317069,\n",
       " 0.0002936842744398621,\n",
       " 0.00039043589653536825,\n",
       " -0.0016884865417170353,\n",
       " -0.0008625021667342109,\n",
       " -2.280356988190735e-05,\n",
       " 1.153911475056113e-05,\n",
       " -0.0003806779479942485,\n",
       " 0.002145529906596874,\n",
       " 0.00014256009048672913,\n",
       " -0.00040813879379938967,\n",
       " 0.00019756193457641513,\n",
       " -0.000896788574093893,\n",
       " 0.001201988088077685,\n",
       " 0.000555410732110212,\n",
       " -0.0010001389432809094,\n",
       " 0.0003558902726464863,\n",
       " -0.0013167120561978218,\n",
       " 0.0004452245691372314,\n",
       " -0.0003118902564151482,\n",
       " -0.00048411529114827934,\n",
       " -0.0007178164249137253,\n",
       " -0.0012683652364724046,\n",
       " 0.0007204640147925739,\n",
       " 0.001518939793556981,\n",
       " -0.001440762513767721,\n",
       " 0.00028023779595907905,\n",
       " -0.0003944552686241387,\n",
       " -0.0023699267207472757,\n",
       " -0.0005184971993345278,\n",
       " 0.0014363304416785128,\n",
       " -5.0305344612713854e-05,\n",
       " -0.0027548253694576613,\n",
       " 3.9071586175609685e-05,\n",
       " -0.00018820815917622302,\n",
       " -0.0012135288134572653,\n",
       " -0.0004220354904624496,\n",
       " -0.0007385369777594408,\n",
       " 0.0012575083652257985,\n",
       " 0.00045902405960186743,\n",
       " 0.0017254648786250298,\n",
       " 0.001257426507374454,\n",
       " -0.0004978209861582761,\n",
       " 0.0023449838565563763,\n",
       " 0.0030950087879093174,\n",
       " 0.0028195664029975614,\n",
       " -0.001447443118710534,\n",
       " -0.0020667233445755273,\n",
       " 0.0015946911818147391,\n",
       " -0.0011238739070488085,\n",
       " -0.0004907583779092534,\n",
       " 0.0005622772225904182,\n",
       " -0.0003534012823546012,\n",
       " 0.0016775102944372317,\n",
       " -0.0005391017868908582,\n",
       " -0.00071095675592113,\n",
       " 0.0019457127124220819,\n",
       " 0.00016295150655523671,\n",
       " -0.000979426917294704,\n",
       " 9.430706621596507e-05,\n",
       " 0.0016428026602175877,\n",
       " -0.0010345651911366077,\n",
       " -0.0002842674002792589,\n",
       " -0.0003735914645385946,\n",
       " -0.0019707340237204996,\n",
       " -0.0011858565015362005,\n",
       " -0.0031612290420890005,\n",
       " 0.00047962523641441324,\n",
       " -0.000470138442005788,\n",
       " -0.0006974113658700098,\n",
       " -0.002596872213206175,\n",
       " -0.00013277485599515193,\n",
       " -0.00040821724090689404,\n",
       " -0.0005803024351440228,\n",
       " -0.0014406960042635114,\n",
       " 0.0014984869840999893,\n",
       " 0.0026615910769113432,\n",
       " 0.0005484862589853201,\n",
       " 0.0016359651610597242,\n",
       " 0.0012299741884288368,\n",
       " 0.0019663207107222386,\n",
       " 0.0013607018401977505,\n",
       " 0.001326374503912403,\n",
       " -0.0017366645296240796,\n",
       " 0.0013332853340620732,\n",
       " 0.00215918102970597,\n",
       " 0.0010371650306021801,\n",
       " 0.0017805554020536574,\n",
       " -0.00180546074806269,\n",
       " 0.0005691795258806059,\n",
       " -0.0013648474098073016,\n",
       " -0.002294049134968723,\n",
       " -0.001427125033633847,\n",
       " -0.0008348963643173696,\n",
       " -0.0005389210174691766,\n",
       " 0.0003834568515095893,\n",
       " -0.0005458284368750621,\n",
       " 0.00029353249634053724,\n",
       " -0.0005803996413424745,\n",
       " 0.0016565015337399597,\n",
       " 0.0004453678203770739,\n",
       " 0.0025718355535606363,\n",
       " -0.0007591364492000735,\n",
       " 0.0004177671340759165,\n",
       " 0.0008789509524495948,\n",
       " -9.160149369243087e-05,\n",
       " 0.00027313937490011653,\n",
       " 0.0009132220114621559,\n",
       " 0.0002798097476115202,\n",
       " -4.319328057851568e-05,\n",
       " -0.0004835559291642283,\n",
       " -0.0005802802653092909,\n",
       " 0.0013057545680089377,\n",
       " 0.002138279707438559,\n",
       " 0.00048661621904350083,\n",
       " -0.00034629603980801393,\n",
       " -0.0003395403985014811,\n",
       " -0.0014268948084269761,\n",
       " 0.00021825179072790246,\n",
       " -0.00010528501886768182,\n",
       " 0.001119909106860953,\n",
       " -0.0016060852452106922,\n",
       " -0.0009587302396556197,\n",
       " -0.00168131990578195,\n",
       " 0.0005966881220990095,\n",
       " -0.0018260005314867378,\n",
       " -0.001075939787323843,\n",
       " 0.0004381551394006117,\n",
       " 0.0008510228347431426,\n",
       " -9.857030648678655e-05,\n",
       " -0.0010140083539935396,\n",
       " 1.867846473520285e-05,\n",
       " -0.0004630280833434891,\n",
       " -0.002479811032893478,\n",
       " -0.00019476768271395328,\n",
       " 0.0004385217943596864,\n",
       " -0.0005530104211572545,\n",
       " -5.032580907554651e-05,\n",
       " 0.0010648100565728014,\n",
       " 0.0007825148241560748,\n",
       " -0.0011447991045228645,\n",
       " 0.00025248533155859676,\n",
       " -0.00040120749918685916,\n",
       " -0.0006006341631959455,\n",
       " 0.0002593944563363815,\n",
       " 0.0007756176369816126,\n",
       " 0.001677251077908018,\n",
       " -0.0004629359932607491,\n",
       " -0.0015435791015492029,\n",
       " -0.0010482521270556572,\n",
       " 4.606427417661041e-05,\n",
       " -0.0018672676892440981,\n",
       " -0.0006075603416927505,\n",
       " 0.001257597044564726,\n",
       " -0.001213397499820773,\n",
       " -0.0029960597941172395,\n",
       " 0.0007757267807833867,\n",
       " 0.00025950018939434327,\n",
       " 0.00011505149426832562,\n",
       " -0.0011652621462112794,\n",
       " 0.0009546238935998347,\n",
       " -0.00039441263432657414,\n",
       " 0.0015462778525851262,\n",
       " 0.0016429766081516584,\n",
       " 0.003996935552802991,\n",
       " -0.0003876331178133824,\n",
       " 0.0008032984757621875,\n",
       " 0.00010782687568855476,\n",
       " 0.00018386647179785554,\n",
       " -0.0024039283309992138,\n",
       " -0.0013234813404795764,\n",
       " -0.002755229542598589,\n",
       " -0.00019495356825134647,\n",
       " -0.0006282979482574863,\n",
       " 0.0012642810602513516,\n",
       " 0.000624457640218512,\n",
       " 0.00022480790352182034,\n",
       " 0.0017115426013834256,\n",
       " -0.0007387262740406325,\n",
       " 0.0005485305986547839,\n",
       " -0.001186037270957896,\n",
       " 0.0012091155004590043,\n",
       " -0.0007453591285701833,\n",
       " 0.0012161218314352268,\n",
       " 3.233470395999638e-05,\n",
       " -0.001268566470356905,\n",
       " 0.0026959644582380676,\n",
       " 9.424737819936635e-05,\n",
       " 0.0008512888727599532,\n",
       " 0.0012848020845844521,\n",
       " 0.0006103341290923936,\n",
       " -0.00014685061670799415,\n",
       " -0.0004151689999822433,\n",
       " -0.0011583683697806296,\n",
       " -0.0003325988716575412,\n",
       " -0.0022529576305173327,\n",
       " -0.0002707220102281249,\n",
       " 0.0011128891329095086,\n",
       " 9.430024472835419e-05,\n",
       " -0.00104800484812978,\n",
       " 0.0015395256220223918,\n",
       " 0.0015809121558129496,\n",
       " 0.0017667252148947932,\n",
       " -0.0023835710223687606,\n",
       " -0.0005870717194257913,\n",
       " ...]"
      ]
     },
     "execution_count": 83,
     "metadata": {},
     "output_type": "execute_result"
    }
   ],
   "source": [
    "p_diffs = []\n",
    "for _ in range(10000): \n",
    "    new_page_converted = np.random.choice([1, 0], size = new, p=[pnew, (1-pnew)])\n",
    "    old_page_converted = np.random.choice([1, 0], size = old, p=[pold, (1-pold)])\n",
    "    p_diffs.append(np.mean(new_page_converted) - np.mean(old_page_converted))\n",
    "p_diffs    "
   ]
  },
  {
   "cell_type": "markdown",
   "metadata": {},
   "source": [
    "i. Plot a histogram of the **p_diffs**.  Does this plot look like what you expected?  Use the matching problem in the classroom to assure you fully understand what was computed here."
   ]
  },
  {
   "cell_type": "code",
   "execution_count": 84,
   "metadata": {},
   "outputs": [
    {
     "data": {
      "image/png": "[encoded data removed]",
      "text/plain": [
       "<Figure size 432x288 with 1 Axes>"
      ]
     },
     "metadata": {
      "needs_background": "light"
     },
     "output_type": "display_data"
    }
   ],
   "source": [
    "plt.hist(p_diffs);"
   ]
  },
  {
   "cell_type": "markdown",
   "metadata": {},
   "source": [
    "j. What proportion of the **p_diffs** are greater than the actual difference observed in **ab_data.csv**?"
   ]
  },
  {
   "cell_type": "code",
   "execution_count": 85,
   "metadata": {},
   "outputs": [
    {
     "data": {
      "text/plain": [
       "-0.0015782389853555567"
      ]
     },
     "execution_count": 85,
     "metadata": {},
     "output_type": "execute_result"
    }
   ],
   "source": [
    "diff = treatment - control \n",
    "diff"
   ]
  },
  {
   "cell_type": "code",
   "execution_count": 86,
   "metadata": {},
   "outputs": [
    {
     "data": {
      "text/plain": [
       "0.9004"
      ]
     },
     "execution_count": 86,
     "metadata": {},
     "output_type": "execute_result"
    }
   ],
   "source": [
    "p_diffs=np.array(p_diffs)\n",
    "pvalue = np.mean(p_diffs > diff)\n",
    "pvalue"
   ]
  },
  {
   "cell_type": "code",
   "execution_count": 87,
   "metadata": {},
   "outputs": [
    {
     "data": {
      "text/plain": [
       "<matplotlib.lines.Line2D at 0x1a2fdaabd0>"
      ]
     },
     "execution_count": 87,
     "metadata": {},
     "output_type": "execute_result"
    },
    {
     "data": {
      "image/png": "[encoded data removed]",
      "text/plain": [
       "<Figure size 432x288 with 1 Axes>"
      ]
     },
     "metadata": {
      "needs_background": "light"
     },
     "output_type": "display_data"
    }
   ],
   "source": [
    "plt.hist(p_diffs)\n",
    "plt.axvline(x = diff, color = 'red')"
   ]
  },
  {
   "cell_type": "markdown",
   "metadata": {},
   "source": [
    "k. In words, explain what you just computed in part **j.**  What is this value called in scientific studies?  What does this value mean in terms of whether or not there is a difference between the new and old pages?"
   ]
  },
  {
   "cell_type": "markdown",
   "metadata": {},
   "source": [
    "**Put your answer here.** In scientific studies, the P-value has to be equal or less than 0.05, and since the P-value appears with a greater number than the significant difference of 0.9059, we could say that rejecting the null hypothesis is no longer a valid option. "
   ]
  },
  {
   "cell_type": "markdown",
   "metadata": {},
   "source": [
    "l. We could also use a built-in to achieve similar results.  Though using the built-in might be easier to code, the above portions are a walkthrough of the ideas that are critical to correctly thinking about statistical significance. Fill in the below to calculate the number of conversions for each page, as well as the number of individuals who received each page. Let `n_old` and `n_new` refer the the number of rows associated with the old page and new pages, respectively."
   ]
  },
  {
   "cell_type": "code",
   "execution_count": 88,
   "metadata": {},
   "outputs": [],
   "source": [
    "import statsmodels.api as sm\n",
    "\n",
    "convert_old = df2.query(\"group == 'control'\")['converted'].sum()\n",
    "convert_new = df2.query(\"group == 'treatment'\")['converted'].sum()\n",
    "n_old = (len(df2.query(\"landing_page == 'old_page'\")))\n",
    "n_new = (len(df2.query(\"landing_page == 'new_page'\")))"
   ]
  },
  {
   "cell_type": "markdown",
   "metadata": {},
   "source": [
    "m. Now use `stats.proportions_ztest` to compute your test statistic and p-value.  [Here](http://knowledgetack.com/python/statsmodels/proportions_ztest/) is a helpful link on using the built in."
   ]
  },
  {
   "cell_type": "code",
   "execution_count": 89,
   "metadata": {},
   "outputs": [
    {
     "name": "stdout",
     "output_type": "stream",
     "text": [
      "1.3109241984234394 0.18988337448195103\n"
     ]
    }
   ],
   "source": [
    "z_score, p_value = sm.stats.proportions_ztest([convert_old, convert_new], [n_old, n_new])\n",
    "print(z_score, p_value)"
   ]
  },
  {
   "cell_type": "code",
   "execution_count": 90,
   "metadata": {},
   "outputs": [
    {
     "data": {
      "text/plain": [
       "1.959963984540054"
      ]
     },
     "execution_count": 90,
     "metadata": {},
     "output_type": "execute_result"
    }
   ],
   "source": [
    "from scipy.stats import norm\n",
    "norm.ppf(1-(0.05/2))"
   ]
  },
  {
   "cell_type": "markdown",
   "metadata": {},
   "source": [
    "n. What do the z-score and p-value you computed in the previous question mean for the conversion rates of the old and new pages?  Do they agree with the findings in parts **j.** and **k.**?"
   ]
  },
  {
   "cell_type": "markdown",
   "metadata": {},
   "source": [
    "**Put your answer here.** It also seems to be invalid to reject the null hypothesis due to the fact that z-score is 1.310 and to reach the confidence 95% it has to be greater or equal to 1.959. I think they agree with the findings because they both show that we cannot reject the null, and the new page is not effective as we thought. In fact the old page shows better results, which can be interpreted that the new page is not successful."
   ]
  },
  {
   "cell_type": "markdown",
   "metadata": {},
   "source": [
    "<a id='regression'></a>\n",
    "### Part III - A regression approach\n",
    "\n",
    "`1.` In this final part, you will see that the result you acheived in the previous A/B test can also be acheived by performing regression.<br><br>\n",
    "\n",
    "a. Since each row is either a conversion or no conversion, what type of regression should you be performing in this case?"
   ]
  },
  {
   "cell_type": "markdown",
   "metadata": {},
   "source": [
    "**Put your answer here.** Since it is about finding out whether each row is a conversion or not, it should be a logistic regression a possibility of two outcomes."
   ]
  },
  {
   "cell_type": "markdown",
   "metadata": {},
   "source": [
    "b. The goal is to use **statsmodels** to fit the regression model you specified in part **a.** to see if there is a significant difference in conversion based on which page a customer receives.  However, you first need to create a column for the intercept, and create a dummy variable column for which page each user received.  Add an **intercept** column, as well as an **ab_page** column, which is 1 when an individual receives the **treatment** and 0 if **control**."
   ]
  },
  {
   "cell_type": "code",
   "execution_count": 91,
   "metadata": {},
   "outputs": [
    {
     "data": {
      "text/html": [
       "<div>\n",
       "<style scoped>\n",
       "    .dataframe tbody tr th:only-of-type {\n",
       "        vertical-align: middle;\n",
       "    }\n",
       "\n",
       "    .dataframe tbody tr th {\n",
       "        vertical-align: top;\n",
       "    }\n",
       "\n",
       "    .dataframe thead th {\n",
       "        text-align: right;\n",
       "    }\n",
       "</style>\n",
       "<table border=\"1\" class=\"dataframe\">\n",
       "  <thead>\n",
       "    <tr style=\"text-align: right;\">\n",
       "      <th></th>\n",
       "      <th>user_id</th>\n",
       "      <th>timestamp</th>\n",
       "      <th>group</th>\n",
       "      <th>landing_page</th>\n",
       "      <th>converted</th>\n",
       "      <th>intercept</th>\n",
       "    </tr>\n",
       "  </thead>\n",
       "  <tbody>\n",
       "    <tr>\n",
       "      <th>0</th>\n",
       "      <td>851104</td>\n",
       "      <td>2017-01-21 22:11:48.556739</td>\n",
       "      <td>control</td>\n",
       "      <td>old_page</td>\n",
       "      <td>0</td>\n",
       "      <td>1</td>\n",
       "    </tr>\n",
       "    <tr>\n",
       "      <th>1</th>\n",
       "      <td>804228</td>\n",
       "      <td>2017-01-12 08:01:45.159739</td>\n",
       "      <td>control</td>\n",
       "      <td>old_page</td>\n",
       "      <td>0</td>\n",
       "      <td>1</td>\n",
       "    </tr>\n",
       "    <tr>\n",
       "      <th>2</th>\n",
       "      <td>661590</td>\n",
       "      <td>2017-01-11 16:55:06.154213</td>\n",
       "      <td>treatment</td>\n",
       "      <td>new_page</td>\n",
       "      <td>0</td>\n",
       "      <td>1</td>\n",
       "    </tr>\n",
       "    <tr>\n",
       "      <th>3</th>\n",
       "      <td>853541</td>\n",
       "      <td>2017-01-08 18:28:03.143765</td>\n",
       "      <td>treatment</td>\n",
       "      <td>new_page</td>\n",
       "      <td>0</td>\n",
       "      <td>1</td>\n",
       "    </tr>\n",
       "    <tr>\n",
       "      <th>4</th>\n",
       "      <td>864975</td>\n",
       "      <td>2017-01-21 01:52:26.210827</td>\n",
       "      <td>control</td>\n",
       "      <td>old_page</td>\n",
       "      <td>1</td>\n",
       "      <td>1</td>\n",
       "    </tr>\n",
       "  </tbody>\n",
       "</table>\n",
       "</div>"
      ],
      "text/plain": [
       "   user_id                   timestamp      group landing_page  converted  \\\n",
       "0   851104  2017-01-21 22:11:48.556739    control     old_page          0   \n",
       "1   804228  2017-01-12 08:01:45.159739    control     old_page          0   \n",
       "2   661590  2017-01-11 16:55:06.154213  treatment     new_page          0   \n",
       "3   853541  2017-01-08 18:28:03.143765  treatment     new_page          0   \n",
       "4   864975  2017-01-21 01:52:26.210827    control     old_page          1   \n",
       "\n",
       "   intercept  \n",
       "0          1  \n",
       "1          1  \n",
       "2          1  \n",
       "3          1  \n",
       "4          1  "
      ]
     },
     "execution_count": 91,
     "metadata": {},
     "output_type": "execute_result"
    }
   ],
   "source": [
    "df2['intercept'] = 1\n",
    "df2.head()"
   ]
  },
  {
   "cell_type": "code",
   "execution_count": 92,
   "metadata": {},
   "outputs": [
    {
     "data": {
      "text/html": [
       "<div>\n",
       "<style scoped>\n",
       "    .dataframe tbody tr th:only-of-type {\n",
       "        vertical-align: middle;\n",
       "    }\n",
       "\n",
       "    .dataframe tbody tr th {\n",
       "        vertical-align: top;\n",
       "    }\n",
       "\n",
       "    .dataframe thead th {\n",
       "        text-align: right;\n",
       "    }\n",
       "</style>\n",
       "<table border=\"1\" class=\"dataframe\">\n",
       "  <thead>\n",
       "    <tr style=\"text-align: right;\">\n",
       "      <th></th>\n",
       "      <th>user_id</th>\n",
       "      <th>timestamp</th>\n",
       "      <th>group</th>\n",
       "      <th>landing_page</th>\n",
       "      <th>converted</th>\n",
       "      <th>intercept</th>\n",
       "      <th>ab_page</th>\n",
       "    </tr>\n",
       "  </thead>\n",
       "  <tbody>\n",
       "    <tr>\n",
       "      <th>0</th>\n",
       "      <td>851104</td>\n",
       "      <td>2017-01-21 22:11:48.556739</td>\n",
       "      <td>control</td>\n",
       "      <td>old_page</td>\n",
       "      <td>0</td>\n",
       "      <td>1</td>\n",
       "      <td>0</td>\n",
       "    </tr>\n",
       "    <tr>\n",
       "      <th>1</th>\n",
       "      <td>804228</td>\n",
       "      <td>2017-01-12 08:01:45.159739</td>\n",
       "      <td>control</td>\n",
       "      <td>old_page</td>\n",
       "      <td>0</td>\n",
       "      <td>1</td>\n",
       "      <td>0</td>\n",
       "    </tr>\n",
       "    <tr>\n",
       "      <th>2</th>\n",
       "      <td>661590</td>\n",
       "      <td>2017-01-11 16:55:06.154213</td>\n",
       "      <td>treatment</td>\n",
       "      <td>new_page</td>\n",
       "      <td>0</td>\n",
       "      <td>1</td>\n",
       "      <td>1</td>\n",
       "    </tr>\n",
       "    <tr>\n",
       "      <th>3</th>\n",
       "      <td>853541</td>\n",
       "      <td>2017-01-08 18:28:03.143765</td>\n",
       "      <td>treatment</td>\n",
       "      <td>new_page</td>\n",
       "      <td>0</td>\n",
       "      <td>1</td>\n",
       "      <td>1</td>\n",
       "    </tr>\n",
       "    <tr>\n",
       "      <th>4</th>\n",
       "      <td>864975</td>\n",
       "      <td>2017-01-21 01:52:26.210827</td>\n",
       "      <td>control</td>\n",
       "      <td>old_page</td>\n",
       "      <td>1</td>\n",
       "      <td>1</td>\n",
       "      <td>0</td>\n",
       "    </tr>\n",
       "  </tbody>\n",
       "</table>\n",
       "</div>"
      ],
      "text/plain": [
       "   user_id                   timestamp      group landing_page  converted  \\\n",
       "0   851104  2017-01-21 22:11:48.556739    control     old_page          0   \n",
       "1   804228  2017-01-12 08:01:45.159739    control     old_page          0   \n",
       "2   661590  2017-01-11 16:55:06.154213  treatment     new_page          0   \n",
       "3   853541  2017-01-08 18:28:03.143765  treatment     new_page          0   \n",
       "4   864975  2017-01-21 01:52:26.210827    control     old_page          1   \n",
       "\n",
       "   intercept  ab_page  \n",
       "0          1        0  \n",
       "1          1        0  \n",
       "2          1        1  \n",
       "3          1        1  \n",
       "4          1        0  "
      ]
     },
     "execution_count": 92,
     "metadata": {},
     "output_type": "execute_result"
    }
   ],
   "source": [
    "df2[['e', 'ab_page']] = pd.get_dummies(df2['group'])\n",
    "df2 =df2.drop('e', axis=1)\n",
    "df2.head()"
   ]
  },
  {
   "cell_type": "markdown",
   "metadata": {},
   "source": [
    "c. Use **statsmodels** to import your regression model.  Instantiate the model, and fit the model using the two columns you created in part **b.** to predict whether or not an individual converts."
   ]
  },
  {
   "cell_type": "code",
   "execution_count": 93,
   "metadata": {},
   "outputs": [
    {
     "name": "stdout",
     "output_type": "stream",
     "text": [
      "Optimization terminated successfully.\n",
      "         Current function value: 0.366118\n",
      "         Iterations 6\n"
     ]
    }
   ],
   "source": [
    "r = sm.Logit(df2['converted'], df2[['intercept', 'ab_page']])\n",
    "result = r.fit()"
   ]
  },
  {
   "cell_type": "markdown",
   "metadata": {},
   "source": [
    "d. Provide the summary of your model below, and use it as necessary to answer the following questions."
   ]
  },
  {
   "cell_type": "code",
   "execution_count": 94,
   "metadata": {},
   "outputs": [
    {
     "data": {
      "text/html": [
       "<table class=\"simpletable\">\n",
       "<caption>Logit Regression Results</caption>\n",
       "<tr>\n",
       "  <th>Dep. Variable:</th>       <td>converted</td>    <th>  No. Observations:  </th>   <td>290584</td>   \n",
       "</tr>\n",
       "<tr>\n",
       "  <th>Model:</th>                 <td>Logit</td>      <th>  Df Residuals:      </th>   <td>290582</td>   \n",
       "</tr>\n",
       "<tr>\n",
       "  <th>Method:</th>                 <td>MLE</td>       <th>  Df Model:          </th>   <td>     1</td>   \n",
       "</tr>\n",
       "<tr>\n",
       "  <th>Date:</th>            <td>Wed, 08 Jul 2020</td> <th>  Pseudo R-squ.:     </th>  <td>8.077e-06</td> \n",
       "</tr>\n",
       "<tr>\n",
       "  <th>Time:</th>                <td>20:29:45</td>     <th>  Log-Likelihood:    </th> <td>-1.0639e+05</td>\n",
       "</tr>\n",
       "<tr>\n",
       "  <th>converged:</th>             <td>True</td>       <th>  LL-Null:           </th> <td>-1.0639e+05</td>\n",
       "</tr>\n",
       "<tr>\n",
       "  <th>Covariance Type:</th>     <td>nonrobust</td>    <th>  LLR p-value:       </th>   <td>0.1899</td>   \n",
       "</tr>\n",
       "</table>\n",
       "<table class=\"simpletable\">\n",
       "<tr>\n",
       "      <td></td>         <th>coef</th>     <th>std err</th>      <th>z</th>      <th>P>|z|</th>  <th>[0.025</th>    <th>0.975]</th>  \n",
       "</tr>\n",
       "<tr>\n",
       "  <th>intercept</th> <td>   -1.9888</td> <td>    0.008</td> <td> -246.669</td> <td> 0.000</td> <td>   -2.005</td> <td>   -1.973</td>\n",
       "</tr>\n",
       "<tr>\n",
       "  <th>ab_page</th>   <td>   -0.0150</td> <td>    0.011</td> <td>   -1.311</td> <td> 0.190</td> <td>   -0.037</td> <td>    0.007</td>\n",
       "</tr>\n",
       "</table>"
      ],
      "text/plain": [
       "<class 'statsmodels.iolib.summary.Summary'>\n",
       "\"\"\"\n",
       "                           Logit Regression Results                           \n",
       "==============================================================================\n",
       "Dep. Variable:              converted   No. Observations:               290584\n",
       "Model:                          Logit   Df Residuals:                   290582\n",
       "Method:                           MLE   Df Model:                            1\n",
       "Date:                Wed, 08 Jul 2020   Pseudo R-squ.:               8.077e-06\n",
       "Time:                        20:29:45   Log-Likelihood:            -1.0639e+05\n",
       "converged:                       True   LL-Null:                   -1.0639e+05\n",
       "Covariance Type:            nonrobust   LLR p-value:                    0.1899\n",
       "==============================================================================\n",
       "                 coef    std err          z      P>|z|      [0.025      0.975]\n",
       "------------------------------------------------------------------------------\n",
       "intercept     -1.9888      0.008   -246.669      0.000      -2.005      -1.973\n",
       "ab_page       -0.0150      0.011     -1.311      0.190      -0.037       0.007\n",
       "==============================================================================\n",
       "\"\"\""
      ]
     },
     "execution_count": 94,
     "metadata": {},
     "output_type": "execute_result"
    }
   ],
   "source": [
    "result.summary()"
   ]
  },
  {
   "cell_type": "markdown",
   "metadata": {},
   "source": [
    "e. What is the p-value associated with **ab_page**? Why does it differ from the value you found in **Part II**?<br><br>  **Hint**: What are the null and alternative hypotheses associated with your regression model, and how do they compare to the null and alternative hypotheses in the **Part II**?"
   ]
  },
  {
   "cell_type": "markdown",
   "metadata": {},
   "source": [
    "**Put your answer here.** As it appears in the summary, the p-value associeted with ab_page is 0.190. it differs because in part 2 the testing was whether the new page was greater than the old page, whereas in part 3 the testing was to see if they were equal. "
   ]
  },
  {
   "cell_type": "markdown",
   "metadata": {},
   "source": [
    "f. Now, you are considering other things that might influence whether or not an individual converts.  Discuss why it is a good idea to consider other factors to add into your regression model.  Are there any disadvantages to adding additional terms into your regression model?"
   ]
  },
  {
   "attachments": {},
   "cell_type": "markdown",
   "metadata": {},
   "source": [
    "**Put your answer here.** There might be strong opinions about converting individuals, however; there could be a survey that makes it easy analyze the reasons behind conversion or not. Doing so would assist categorizing individuals into groups based on their influences."
   ]
  },
  {
   "cell_type": "markdown",
   "metadata": {},
   "source": [
    "g. Now along with testing if the conversion rate changes for different pages, also add an effect based on which country a user lives. You will need to read in the **countries.csv** dataset and merge together your datasets on the approporiate rows.  [Here](https://pandas.pydata.org/pandas-docs/stable/generated/pandas.DataFrame.join.html) are the docs for joining tables. \n",
    "\n",
    "Does it appear that country had an impact on conversion?  Don't forget to create dummy variables for these country columns - **Hint: You will need two columns for the three dummy variables.** Provide the statistical output as well as a written response to answer this question."
   ]
  },
  {
   "cell_type": "code",
   "execution_count": 95,
   "metadata": {},
   "outputs": [
    {
     "data": {
      "text/html": [
       "<div>\n",
       "<style scoped>\n",
       "    .dataframe tbody tr th:only-of-type {\n",
       "        vertical-align: middle;\n",
       "    }\n",
       "\n",
       "    .dataframe tbody tr th {\n",
       "        vertical-align: top;\n",
       "    }\n",
       "\n",
       "    .dataframe thead th {\n",
       "        text-align: right;\n",
       "    }\n",
       "</style>\n",
       "<table border=\"1\" class=\"dataframe\">\n",
       "  <thead>\n",
       "    <tr style=\"text-align: right;\">\n",
       "      <th></th>\n",
       "      <th>country</th>\n",
       "      <th>timestamp</th>\n",
       "      <th>group</th>\n",
       "      <th>landing_page</th>\n",
       "      <th>converted</th>\n",
       "      <th>intercept</th>\n",
       "      <th>ab_page</th>\n",
       "    </tr>\n",
       "    <tr>\n",
       "      <th>user_id</th>\n",
       "      <th></th>\n",
       "      <th></th>\n",
       "      <th></th>\n",
       "      <th></th>\n",
       "      <th></th>\n",
       "      <th></th>\n",
       "      <th></th>\n",
       "    </tr>\n",
       "  </thead>\n",
       "  <tbody>\n",
       "    <tr>\n",
       "      <th>834778</th>\n",
       "      <td>UK</td>\n",
       "      <td>2017-01-14 23:08:43.304998</td>\n",
       "      <td>control</td>\n",
       "      <td>old_page</td>\n",
       "      <td>0</td>\n",
       "      <td>1</td>\n",
       "      <td>0</td>\n",
       "    </tr>\n",
       "    <tr>\n",
       "      <th>928468</th>\n",
       "      <td>US</td>\n",
       "      <td>2017-01-23 14:44:16.387854</td>\n",
       "      <td>treatment</td>\n",
       "      <td>new_page</td>\n",
       "      <td>0</td>\n",
       "      <td>1</td>\n",
       "      <td>1</td>\n",
       "    </tr>\n",
       "    <tr>\n",
       "      <th>822059</th>\n",
       "      <td>UK</td>\n",
       "      <td>2017-01-16 14:04:14.719771</td>\n",
       "      <td>treatment</td>\n",
       "      <td>new_page</td>\n",
       "      <td>1</td>\n",
       "      <td>1</td>\n",
       "      <td>1</td>\n",
       "    </tr>\n",
       "    <tr>\n",
       "      <th>711597</th>\n",
       "      <td>UK</td>\n",
       "      <td>2017-01-22 03:14:24.763511</td>\n",
       "      <td>control</td>\n",
       "      <td>old_page</td>\n",
       "      <td>0</td>\n",
       "      <td>1</td>\n",
       "      <td>0</td>\n",
       "    </tr>\n",
       "    <tr>\n",
       "      <th>710616</th>\n",
       "      <td>UK</td>\n",
       "      <td>2017-01-16 13:14:44.000513</td>\n",
       "      <td>treatment</td>\n",
       "      <td>new_page</td>\n",
       "      <td>0</td>\n",
       "      <td>1</td>\n",
       "      <td>1</td>\n",
       "    </tr>\n",
       "  </tbody>\n",
       "</table>\n",
       "</div>"
      ],
      "text/plain": [
       "        country                   timestamp      group landing_page  \\\n",
       "user_id                                                               \n",
       "834778       UK  2017-01-14 23:08:43.304998    control     old_page   \n",
       "928468       US  2017-01-23 14:44:16.387854  treatment     new_page   \n",
       "822059       UK  2017-01-16 14:04:14.719771  treatment     new_page   \n",
       "711597       UK  2017-01-22 03:14:24.763511    control     old_page   \n",
       "710616       UK  2017-01-16 13:14:44.000513  treatment     new_page   \n",
       "\n",
       "         converted  intercept  ab_page  \n",
       "user_id                                 \n",
       "834778           0          1        0  \n",
       "928468           0          1        1  \n",
       "822059           1          1        1  \n",
       "711597           0          1        0  \n",
       "710616           0          1        1  "
      ]
     },
     "execution_count": 95,
     "metadata": {},
     "output_type": "execute_result"
    }
   ],
   "source": [
    "countries_df = pd.read_csv('./countries.csv')\n",
    "df_new = countries_df.set_index('user_id').join(df2.set_index('user_id'), how='inner')\n",
    "df_new.head()"
   ]
  },
  {
   "cell_type": "code",
   "execution_count": 96,
   "metadata": {},
   "outputs": [
    {
     "data": {
      "text/html": [
       "<div>\n",
       "<style scoped>\n",
       "    .dataframe tbody tr th:only-of-type {\n",
       "        vertical-align: middle;\n",
       "    }\n",
       "\n",
       "    .dataframe tbody tr th {\n",
       "        vertical-align: top;\n",
       "    }\n",
       "\n",
       "    .dataframe thead th {\n",
       "        text-align: right;\n",
       "    }\n",
       "</style>\n",
       "<table border=\"1\" class=\"dataframe\">\n",
       "  <thead>\n",
       "    <tr style=\"text-align: right;\">\n",
       "      <th></th>\n",
       "      <th>country</th>\n",
       "      <th>timestamp</th>\n",
       "      <th>group</th>\n",
       "      <th>landing_page</th>\n",
       "      <th>converted</th>\n",
       "      <th>intercept</th>\n",
       "      <th>ab_page</th>\n",
       "      <th>US</th>\n",
       "      <th>UK</th>\n",
       "    </tr>\n",
       "    <tr>\n",
       "      <th>user_id</th>\n",
       "      <th></th>\n",
       "      <th></th>\n",
       "      <th></th>\n",
       "      <th></th>\n",
       "      <th></th>\n",
       "      <th></th>\n",
       "      <th></th>\n",
       "      <th></th>\n",
       "      <th></th>\n",
       "    </tr>\n",
       "  </thead>\n",
       "  <tbody>\n",
       "    <tr>\n",
       "      <th>834778</th>\n",
       "      <td>UK</td>\n",
       "      <td>2017-01-14 23:08:43.304998</td>\n",
       "      <td>control</td>\n",
       "      <td>old_page</td>\n",
       "      <td>0</td>\n",
       "      <td>1</td>\n",
       "      <td>0</td>\n",
       "      <td>0</td>\n",
       "      <td>0</td>\n",
       "    </tr>\n",
       "    <tr>\n",
       "      <th>928468</th>\n",
       "      <td>US</td>\n",
       "      <td>2017-01-23 14:44:16.387854</td>\n",
       "      <td>treatment</td>\n",
       "      <td>new_page</td>\n",
       "      <td>0</td>\n",
       "      <td>1</td>\n",
       "      <td>1</td>\n",
       "      <td>0</td>\n",
       "      <td>1</td>\n",
       "    </tr>\n",
       "    <tr>\n",
       "      <th>822059</th>\n",
       "      <td>UK</td>\n",
       "      <td>2017-01-16 14:04:14.719771</td>\n",
       "      <td>treatment</td>\n",
       "      <td>new_page</td>\n",
       "      <td>1</td>\n",
       "      <td>1</td>\n",
       "      <td>1</td>\n",
       "      <td>0</td>\n",
       "      <td>0</td>\n",
       "    </tr>\n",
       "    <tr>\n",
       "      <th>711597</th>\n",
       "      <td>UK</td>\n",
       "      <td>2017-01-22 03:14:24.763511</td>\n",
       "      <td>control</td>\n",
       "      <td>old_page</td>\n",
       "      <td>0</td>\n",
       "      <td>1</td>\n",
       "      <td>0</td>\n",
       "      <td>0</td>\n",
       "      <td>0</td>\n",
       "    </tr>\n",
       "    <tr>\n",
       "      <th>710616</th>\n",
       "      <td>UK</td>\n",
       "      <td>2017-01-16 13:14:44.000513</td>\n",
       "      <td>treatment</td>\n",
       "      <td>new_page</td>\n",
       "      <td>0</td>\n",
       "      <td>1</td>\n",
       "      <td>1</td>\n",
       "      <td>0</td>\n",
       "      <td>0</td>\n",
       "    </tr>\n",
       "    <tr>\n",
       "      <th>...</th>\n",
       "      <td>...</td>\n",
       "      <td>...</td>\n",
       "      <td>...</td>\n",
       "      <td>...</td>\n",
       "      <td>...</td>\n",
       "      <td>...</td>\n",
       "      <td>...</td>\n",
       "      <td>...</td>\n",
       "      <td>...</td>\n",
       "    </tr>\n",
       "    <tr>\n",
       "      <th>653118</th>\n",
       "      <td>US</td>\n",
       "      <td>2017-01-09 03:12:31.034796</td>\n",
       "      <td>control</td>\n",
       "      <td>old_page</td>\n",
       "      <td>0</td>\n",
       "      <td>1</td>\n",
       "      <td>0</td>\n",
       "      <td>0</td>\n",
       "      <td>1</td>\n",
       "    </tr>\n",
       "    <tr>\n",
       "      <th>878226</th>\n",
       "      <td>UK</td>\n",
       "      <td>2017-01-05 15:02:50.334962</td>\n",
       "      <td>control</td>\n",
       "      <td>old_page</td>\n",
       "      <td>0</td>\n",
       "      <td>1</td>\n",
       "      <td>0</td>\n",
       "      <td>0</td>\n",
       "      <td>0</td>\n",
       "    </tr>\n",
       "    <tr>\n",
       "      <th>799368</th>\n",
       "      <td>UK</td>\n",
       "      <td>2017-01-09 18:07:34.253935</td>\n",
       "      <td>control</td>\n",
       "      <td>old_page</td>\n",
       "      <td>0</td>\n",
       "      <td>1</td>\n",
       "      <td>0</td>\n",
       "      <td>0</td>\n",
       "      <td>0</td>\n",
       "    </tr>\n",
       "    <tr>\n",
       "      <th>655535</th>\n",
       "      <td>CA</td>\n",
       "      <td>2017-01-09 13:30:47.524512</td>\n",
       "      <td>treatment</td>\n",
       "      <td>new_page</td>\n",
       "      <td>0</td>\n",
       "      <td>1</td>\n",
       "      <td>1</td>\n",
       "      <td>1</td>\n",
       "      <td>0</td>\n",
       "    </tr>\n",
       "    <tr>\n",
       "      <th>934996</th>\n",
       "      <td>UK</td>\n",
       "      <td>2017-01-09 00:30:08.377677</td>\n",
       "      <td>control</td>\n",
       "      <td>old_page</td>\n",
       "      <td>0</td>\n",
       "      <td>1</td>\n",
       "      <td>0</td>\n",
       "      <td>0</td>\n",
       "      <td>0</td>\n",
       "    </tr>\n",
       "  </tbody>\n",
       "</table>\n",
       "<p>290584 rows × 9 columns</p>\n",
       "</div>"
      ],
      "text/plain": [
       "        country                   timestamp      group landing_page  \\\n",
       "user_id                                                               \n",
       "834778       UK  2017-01-14 23:08:43.304998    control     old_page   \n",
       "928468       US  2017-01-23 14:44:16.387854  treatment     new_page   \n",
       "822059       UK  2017-01-16 14:04:14.719771  treatment     new_page   \n",
       "711597       UK  2017-01-22 03:14:24.763511    control     old_page   \n",
       "710616       UK  2017-01-16 13:14:44.000513  treatment     new_page   \n",
       "...         ...                         ...        ...          ...   \n",
       "653118       US  2017-01-09 03:12:31.034796    control     old_page   \n",
       "878226       UK  2017-01-05 15:02:50.334962    control     old_page   \n",
       "799368       UK  2017-01-09 18:07:34.253935    control     old_page   \n",
       "655535       CA  2017-01-09 13:30:47.524512  treatment     new_page   \n",
       "934996       UK  2017-01-09 00:30:08.377677    control     old_page   \n",
       "\n",
       "         converted  intercept  ab_page  US  UK  \n",
       "user_id                                         \n",
       "834778           0          1        0   0   0  \n",
       "928468           0          1        1   0   1  \n",
       "822059           1          1        1   0   0  \n",
       "711597           0          1        0   0   0  \n",
       "710616           0          1        1   0   0  \n",
       "...            ...        ...      ...  ..  ..  \n",
       "653118           0          1        0   0   1  \n",
       "878226           0          1        0   0   0  \n",
       "799368           0          1        0   0   0  \n",
       "655535           0          1        1   1   0  \n",
       "934996           0          1        0   0   0  \n",
       "\n",
       "[290584 rows x 9 columns]"
      ]
     },
     "execution_count": 96,
     "metadata": {},
     "output_type": "execute_result"
    }
   ],
   "source": [
    "df_new[['US', 'UK', 'UK']] = pd.get_dummies(df_new['country'])\n",
    "df_new"
   ]
  },
  {
   "cell_type": "markdown",
   "metadata": {},
   "source": [
    "h. Though you have now looked at the individual factors of country and page on conversion, we would now like to look at an interaction between page and country to see if there significant effects on conversion.  Create the necessary additional columns, and fit the new model.  \n",
    "\n",
    "Provide the summary results, and your conclusions based on the results."
   ]
  },
  {
   "cell_type": "code",
   "execution_count": 97,
   "metadata": {},
   "outputs": [],
   "source": [
    "lin_r = sm.OLS(df_new['converted'], df_new[['intercept', 'US', 'UK']])\n",
    "result = lin_r.fit()\n"
   ]
  },
  {
   "cell_type": "code",
   "execution_count": 98,
   "metadata": {},
   "outputs": [
    {
     "data": {
      "text/html": [
       "<table class=\"simpletable\">\n",
       "<caption>OLS Regression Results</caption>\n",
       "<tr>\n",
       "  <th>Dep. Variable:</th>        <td>converted</td>    <th>  R-squared:         </th> <td>   0.000</td> \n",
       "</tr>\n",
       "<tr>\n",
       "  <th>Model:</th>                   <td>OLS</td>       <th>  Adj. R-squared:    </th> <td>   0.000</td> \n",
       "</tr>\n",
       "<tr>\n",
       "  <th>Method:</th>             <td>Least Squares</td>  <th>  F-statistic:       </th> <td>   1.605</td> \n",
       "</tr>\n",
       "<tr>\n",
       "  <th>Date:</th>             <td>Wed, 08 Jul 2020</td> <th>  Prob (F-statistic):</th>  <td> 0.201</td>  \n",
       "</tr>\n",
       "<tr>\n",
       "  <th>Time:</th>                 <td>20:29:46</td>     <th>  Log-Likelihood:    </th> <td> -85267.</td> \n",
       "</tr>\n",
       "<tr>\n",
       "  <th>No. Observations:</th>      <td>290584</td>      <th>  AIC:               </th> <td>1.705e+05</td>\n",
       "</tr>\n",
       "<tr>\n",
       "  <th>Df Residuals:</th>          <td>290581</td>      <th>  BIC:               </th> <td>1.706e+05</td>\n",
       "</tr>\n",
       "<tr>\n",
       "  <th>Df Model:</th>              <td>     2</td>      <th>                     </th>     <td> </td>    \n",
       "</tr>\n",
       "<tr>\n",
       "  <th>Covariance Type:</th>      <td>nonrobust</td>    <th>                     </th>     <td> </td>    \n",
       "</tr>\n",
       "</table>\n",
       "<table class=\"simpletable\">\n",
       "<tr>\n",
       "      <td></td>         <th>coef</th>     <th>std err</th>      <th>t</th>      <th>P>|t|</th>  <th>[0.025</th>    <th>0.975]</th>  \n",
       "</tr>\n",
       "<tr>\n",
       "  <th>intercept</th> <td>    0.1206</td> <td>    0.001</td> <td>  100.045</td> <td> 0.000</td> <td>    0.118</td> <td>    0.123</td>\n",
       "</tr>\n",
       "<tr>\n",
       "  <th>US</th>        <td>   -0.0053</td> <td>    0.003</td> <td>   -1.787</td> <td> 0.074</td> <td>   -0.011</td> <td>    0.001</td>\n",
       "</tr>\n",
       "<tr>\n",
       "  <th>UK</th>        <td>   -0.0010</td> <td>    0.001</td> <td>   -0.746</td> <td> 0.455</td> <td>   -0.004</td> <td>    0.002</td>\n",
       "</tr>\n",
       "</table>\n",
       "<table class=\"simpletable\">\n",
       "<tr>\n",
       "  <th>Omnibus:</th>       <td>125552.384</td> <th>  Durbin-Watson:     </th>  <td>   1.996</td> \n",
       "</tr>\n",
       "<tr>\n",
       "  <th>Prob(Omnibus):</th>   <td> 0.000</td>   <th>  Jarque-Bera (JB):  </th> <td>414306.036</td>\n",
       "</tr>\n",
       "<tr>\n",
       "  <th>Skew:</th>            <td> 2.345</td>   <th>  Prob(JB):          </th>  <td>    0.00</td> \n",
       "</tr>\n",
       "<tr>\n",
       "  <th>Kurtosis:</th>        <td> 6.497</td>   <th>  Cond. No.          </th>  <td>    6.38</td> \n",
       "</tr>\n",
       "</table><br/><br/>Warnings:<br/>[1] Standard Errors assume that the covariance matrix of the errors is correctly specified."
      ],
      "text/plain": [
       "<class 'statsmodels.iolib.summary.Summary'>\n",
       "\"\"\"\n",
       "                            OLS Regression Results                            \n",
       "==============================================================================\n",
       "Dep. Variable:              converted   R-squared:                       0.000\n",
       "Model:                            OLS   Adj. R-squared:                  0.000\n",
       "Method:                 Least Squares   F-statistic:                     1.605\n",
       "Date:                Wed, 08 Jul 2020   Prob (F-statistic):              0.201\n",
       "Time:                        20:29:46   Log-Likelihood:                -85267.\n",
       "No. Observations:              290584   AIC:                         1.705e+05\n",
       "Df Residuals:                  290581   BIC:                         1.706e+05\n",
       "Df Model:                           2                                         \n",
       "Covariance Type:            nonrobust                                         \n",
       "==============================================================================\n",
       "                 coef    std err          t      P>|t|      [0.025      0.975]\n",
       "------------------------------------------------------------------------------\n",
       "intercept      0.1206      0.001    100.045      0.000       0.118       0.123\n",
       "US            -0.0053      0.003     -1.787      0.074      -0.011       0.001\n",
       "UK            -0.0010      0.001     -0.746      0.455      -0.004       0.002\n",
       "==============================================================================\n",
       "Omnibus:                   125552.384   Durbin-Watson:                   1.996\n",
       "Prob(Omnibus):                  0.000   Jarque-Bera (JB):           414306.036\n",
       "Skew:                           2.345   Prob(JB):                         0.00\n",
       "Kurtosis:                       6.497   Cond. No.                         6.38\n",
       "==============================================================================\n",
       "\n",
       "Warnings:\n",
       "[1] Standard Errors assume that the covariance matrix of the errors is correctly specified.\n",
       "\"\"\""
      ]
     },
     "execution_count": 98,
     "metadata": {},
     "output_type": "execute_result"
    }
   ],
   "source": [
    "result.summary()"
   ]
  },
  {
   "attachments": {},
   "cell_type": "markdown",
   "metadata": {},
   "source": [
    "<a id='conclusions'></a>\n",
    "## Conclusions\n",
    "\n",
    "In conclusion, this project has been analyzing whether they should continue on the old page or approve of the new page. Statistically, after running numbers we can determine that the new page did not turn out as expected, and we cannot reject the null hypothesis. Also, when comparing the US and the UK p-values, the UK is higher with 0.455.However; they both have higher p-values than the significant difference of 0.05, which makes it invalid even if it were one of them.\n",
    "\n",
    "### Gather Submission Materials\n",
    "\n",
    "Once you are satisfied with the status of your Notebook, you should save it in a format that will make it easy for others to read. You can use the __File -> Download as -> HTML (.html)__ menu to save your notebook as an .html file. If you are working locally and get an error about \"No module name\", then open a terminal and try installing the missing module using `pip install <module_name>` (don't include the \"<\" or \">\" or any words following a period in the module name).\n",
    "\n",
    "You will submit both your original Notebook and an HTML or PDF copy of the Notebook for review. There is no need for you to include any data files with your submission. If you made reference to other websites, books, and other resources to help you in solving tasks in the project, make sure that you document them. It is recommended that you either add a \"Resources\" section in a Markdown cell at the end of the Notebook report, or you can include a `readme.txt` file documenting your sources.\n",
    "\n",
    "### Submit the Project\n",
    "\n",
    "When you're ready, click on the \"Submit Project\" button to go to the project submission page. You can submit your files as a .zip archive or you can link to a GitHub repository containing your project files. If you go with GitHub, note that your submission will be a snapshot of the linked repository at time of submission. It is recommended that you keep each project in a separate repository to avoid any potential confusion: if a reviewer gets multiple folders representing multiple projects, there might be confusion regarding what project is to be evaluated.\n",
    "\n",
    "It can take us up to a week to grade the project, but in most cases it is much faster. You will get an email once your submission has been reviewed. If you are having any problems submitting your project or wish to check on the status of your submission, please email us at dataanalyst-project@udacity.com. In the meantime, you should feel free to continue on with your learning journey by beginning the next module in the program."
   ]
  },
  {
   "cell_type": "code",
   "execution_count": null,
   "metadata": {},
   "outputs": [],
   "source": []
  }
 ],
 "metadata": {
  "kernelspec": {
   "display_name": "Python 3",
   "language": "python",
   "name": "python3"
  },
  "language_info": {
   "codemirror_mode": {
    "name": "ipython",
    "version": 3
   },
   "file_extension": ".py",
   "mimetype": "text/x-python",
   "name": "python",
   "nbconvert_exporter": "python",
   "pygments_lexer": "ipython3",
   "version": "3.7.6"
  }
 },
 "nbformat": 4,
 "nbformat_minor": 2
}
